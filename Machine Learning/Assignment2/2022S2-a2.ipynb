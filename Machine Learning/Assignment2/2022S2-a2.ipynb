{
 "cells": [
  {
   "cell_type": "markdown",
   "metadata": {},
   "source": [
    "# Assignment 2: Naive Bayes [20 marks]\n",
    "\n",
    "Student Name: Hongbo Zhou   \n",
    "\n",
    "Student ID: 1067814\n",
    "\n",
    "## General info\n",
    "\n",
    "<b>Due date</b>: Friday, 2 September 2022, 5pm\n",
    "\n",
    "<b>Submission method</b>: Canvas submission\n",
    "\n",
    "<b>Submission materials</b>: completed copy of this iPython notebook\n",
    "\n",
    "<b>Late submissions</b>: -10% per day up to 5 days (both weekdays and weekends count)\n",
    "<ul>\n",
    "    <li>one day late, -2.0;</li>\n",
    "    <li>two days late, -4.0;</li>\n",
    "    <li>three days late, -6.0;</li>\n",
    "    <li>four days late, -8.0;</li>\n",
    "    <li>five days late, -10.0;</li>\n",
    "</ul>\n",
    "\n",
    "<b>Marks</b>: 20% of mark for class. \n",
    "\n",
    "<b>Materials</b>: See [Using Jupyter Notebook and Python page](https://canvas.lms.unimelb.edu.au/courses/126693/pages/python-and-jupyter-notebooks?module_item_id=3950453) on Canvas (under Modules> Coding Resources) for information on the basic setup required for this class, including an iPython notebook viewer.If your iPython notebook doesn't run on the marker's machine, you will lose marks. <b> You should use Python 3</b>.  \n",
    "\n",
    "\n",
    "<b>Evaluation</b>: Your iPython notebook should run end-to-end without any errors in a reasonable amount of time, and you must follow all instructions provided below, including specific implementation requirements and instructions for what needs to be printed (please avoid printing output we don't ask for). You should implement functions for the skeletons listed below. You may implement any number of additional (helper) functions. You should leave the output from running your code in the iPython notebook you submit, to assist with marking. The amount each section is worth is given in parenthesis after the instructions. \n",
    "\n",
    "You will be marked not only on the correctness of your methods, but also the quality and efficiency of your code: in particular, you should be careful to use Python built-in functions and operators when appropriate and pick descriptive variable names that adhere to <a href=\"https://www.python.org/dev/peps/pep-0008/\">Python style requirements</a>. If you think it might be unclear what you are doing, you should comment your code to help the marker make sense of it. We reserve the right to deduct up to 4 marks for unreadable or excessively inefficient code.\n",
    "\n",
    "7 of the marks available for this Project will be assigned to whether the five specified Python functions work in a manner consistent with the materials from COMP90049. Any other implementation will not be directly assessed (except insofar as it is required to make these five functions work correctly).\n",
    "\n",
    "13 of the marks will be assigned to your responses to the questions, in terms of both accuracy and insightfulness. We will be looking for evidence that you have an implementation that allows you to explore the problem, but also that you have thought deeply about the data and the behaviour of the Naive Bayes classifier.\n",
    "\n",
    "<b>Updates</b>: Any major changes to the assignment will be announced via Canvas. Minor changes and clarifications will be announced on the discussion board (Piazza -> Assignments -> A2); we recommend you check it regularly.\n",
    "\n",
    "<b>Academic misconduct</b>: While you may discuss this homework in general terms with other students, it ultimately is still an individual task. Reuse of code or other instances of clear influence will be considered cheating. Please check the <a href=\"https://canvas.lms.unimelb.edu.au/courses/126693/modules#module_734188\">CIS Academic Honesty training</a> for more information. We will be checking submissions for originality and will invoke the University’s <a href=\"http://academichonesty.unimelb.edu.au/policy.html\">Academic Misconduct policy</a> where inappropriate levels of collusion or plagiarism are deemed to have taken place.\n",
    "\n",
    "**IMPORTANT**\n",
    "\n",
    "Please carefully read and fill out the <b>Authorship Declaration</b> form at the bottom of the page. Failure to fill out this form results in the following deductions: \n",
    "<UL TYPE=”square”>\n",
    "<LI>missing Authorship Declaration at the bottom of the page, -10.0\n",
    "<LI>incomplete or unsigned Authorship Declaration at the bottom of the page, -5.0\n",
    "</UL>"
   ]
  },
  {
   "cell_type": "markdown",
   "metadata": {},
   "source": [
    "## Part 1: Base code [7 marks]\n",
    "\n",
    "Instructions\n",
    "1. Do **not** shuffle the data set\n",
    "2. Treat the features as nominal and use them as provided (e.g., do **not** convert them to other feature types, such as numeric ones). Implement a Naive Bayes classifier with appropriate likelihood function for the data.\n",
    "3. You should implement the Naive Bayes classifier from scratch. Do **not** use existing implementations/learning algorithms. You must use epsilon smoothing strategy as discussed in the Naive Bayes lecture. \n",
    "4. Apart from the instructions in point 3, you may use libraries to help you with data reading, representation, maths or evaluation.\n",
    "5. Ensure that all and only required information is printed, as indicated in the final three code cells. Failure to adhere to print the required information will result in **[-1 mark]** per case. *(We don't mind details like you print a list or several numbers -- just make sure the information is displayed so that it's easily accessible)*\n",
    "6. Please place the jupyter notebook into the same folder as the input data.\n"
   ]
  },
  {
   "cell_type": "code",
   "execution_count": 2,
   "metadata": {},
   "outputs": [],
   "source": [
    "# Required packages\n",
    "import pandas as pd\n",
    "from math import log"
   ]
  },
  {
   "cell_type": "code",
   "execution_count": 3,
   "metadata": {},
   "outputs": [],
   "source": [
    "# This function should open a csv file and read the data into a useable format [0.5 mark]\n",
    "\n",
    "\n",
    "\n",
    "def preprocess(filename):\n",
    "    data = pd.read_csv(filename)\n",
    "\n",
    "    # Get rid of column ID\n",
    "    data = data.drop(\"ID\", axis=1)\n",
    "    data_feature = data.drop(\"label\", axis=1)\n",
    "    data_label = data[\"label\"]\n",
    "    \n",
    "    num_instances = data.shape[0]\n",
    "\n",
    "\n",
    "    return data_feature, data_label, num_instances\n"
   ]
  },
  {
   "cell_type": "code",
   "execution_count": 4,
   "metadata": {},
   "outputs": [],
   "source": [
    "# This function should build a supervised NB model [3 marks]\n",
    "def train(train_feature, train_label, num_train):\n",
    "\n",
    "    feature_names = train_feature.keys()\n",
    "    label_values = train_label.unique()\n",
    "\n",
    "    # Define epsilon based on number of instatnces\n",
    "    eps = 1/num_train / 1000000\n",
    "\n",
    "    # Count probability of each feature for each label\n",
    "    Conditional_pro = {}\n",
    "    Priori_pro = {}\n",
    "    for label in label_values:\n",
    "        Conditional_pro[label] = {}\n",
    "        label_freq = len(train_label[train_label== label])\n",
    "        total_num = len(train_feature)\n",
    "        Priori_pro[label] = label_freq / total_num\n",
    "\n",
    "        for feature in feature_names:\n",
    "            Conditional_pro[label][feature] = {}\n",
    "            feature_cats = train_feature[feature].unique()\n",
    "\n",
    "            for cat in feature_cats:\n",
    "                feature_freq = len(\n",
    "                    train_feature[(train_feature[feature] == cat) & (train_label == label)])\n",
    "                if feature_freq == 0:\n",
    "                    Conditional_pro[label][feature][cat] = eps\n",
    "                else:\n",
    "                    Conditional_pro[label][feature][cat] = feature_freq / label_freq\n",
    "\n",
    "    return Conditional_pro, Priori_pro\n"
   ]
  },
  {
   "cell_type": "code",
   "execution_count": 5,
   "metadata": {},
   "outputs": [],
   "source": [
    "# This function should predict the class for a set of instances, based on a trained model [1.5 marks]\n",
    "\n",
    "\n",
    "def predict(test_feature, test_label, Conditional_pro, Priori_pro, num_train):\n",
    "\n",
    "    feature_names = test_feature.keys()\n",
    "    label_values = Priori_pro.keys()\n",
    "\n",
    "    eps = 1/num_train/1000000\n",
    "\n",
    "    Prediction = []\n",
    "    Result = []\n",
    "    for index, row in test_feature.iterrows():\n",
    "        Probability = {}\n",
    "        for label in label_values:\n",
    "            Probability[label] = log(Priori_pro[label])\n",
    "            for feature in feature_names:\n",
    "                if not Conditional_pro[label][feature].get(row[feature]):\n",
    "                    Probability[label] += log(eps)\n",
    "                else:\n",
    "                    Probability[label] += log(Conditional_pro[label]\n",
    "                                              [feature][row[feature]])\n",
    "\n",
    "        Result.append(Probability)\n",
    "        Prediction.append(max(Probability, key=Probability.get))\n",
    "\n",
    "    return Result, Prediction\n"
   ]
  },
  {
   "cell_type": "code",
   "execution_count": 6,
   "metadata": {},
   "outputs": [],
   "source": [
    "# This function should evaluate a set of predictions [1 mark]\n",
    "def evaluate(test_label, Prediction, num_test):\n",
    "    # Using weighted average Precision to evaluate\n",
    "    \n",
    "    label_values = test_label.unique()\n",
    "    \n",
    "    num_accurate = 0\n",
    "        \n",
    "    for i in range(num_test):\n",
    "        for label in label_values:\n",
    "            if Prediction[i] == label and test_label[i] == label:\n",
    "                num_accurate += 1\n",
    "                break\n",
    "        \n",
    "    accuracy = num_accurate / num_test  \n",
    "    \n",
    "    \n",
    "    return accuracy, num_accurate"
   ]
  },
  {
   "cell_type": "markdown",
   "metadata": {},
   "source": [
    "## Bank Marketing"
   ]
  },
  {
   "cell_type": "code",
   "execution_count": 7,
   "metadata": {},
   "outputs": [
    {
     "name": "stdout",
     "output_type": "stream",
     "text": [
      "Accuracy is  0.8874142888741429\n",
      "F\n",
      "eature vectors of instances [0, 1, 2]:            job  marital  education default housing loan   contact month  \\\n",
      "0  unemployed  married    primary      no      no   no  cellular   oct   \n",
      "1    services  married  secondary      no     yes  yes  cellular   may   \n",
      "2  management   single   tertiary      no     yes   no  cellular   apr   \n",
      "\n",
      "  poutcome  \n",
      "0  unknown  \n",
      "1  failure  \n",
      "2  failure  \n",
      "\n",
      "Number of instances (N):  4521\n",
      "Number of features (F):  9\n",
      "Number of labels (L):  2\n",
      "\n",
      "\n",
      "Predicted class probabilities for instance N-3:  {'no': -6.711607763537066, 'yes': -8.58311083143239}\n",
      "Predicted class for instance N-3:  no\n",
      "\n",
      "Predicted class probabilities for instance N-2:  {'no': -10.619918711707392, 'yes': -11.68220339799834}\n",
      "Predicted class for instance N-2:  no\n",
      "\n",
      "Predicted class probabilities for instance N-1:  {'no': -14.88701380580801, 'yes': -16.28697922108946}\n",
      "Predicted class for instance N-1:  no\n"
     ]
    }
   ],
   "source": [
    "# This cell should act as your \"main\" function where you call the above functions\n",
    "# on the full Bank Marketing data set, and print the evaluation score. [0.33 marks]\n",
    "\n",
    "\n",
    "# First, read in the data and apply your NB model to the Bank Marketing data\n",
    "file_name = \"bank-marketing.csv\"\n",
    "data_feature, data_label, num_instances = preprocess(file_name)\n",
    "\n",
    "Conditional_pro, Priori_pro = train( data_feature, data_label, num_instances)\n",
    "Result, Prediction = predict(\n",
    "    data_feature, data_label, Conditional_pro, Priori_pro, num_instances)\n",
    "\n",
    "# Second, print the full evaluation results from the evaluate() function\n",
    "Bank_accuracy, _ = evaluate(data_label, Prediction, num_instances)\n",
    "print(\"Accuracy is \", Bank_accuracy)\n",
    "\n",
    "# Third, print data statistics and model predictions, as instructed below\n",
    "# N is the total number of instances, F the total number of features, L the total number of labels\n",
    "# The \"class probabilities\" may be unnormalized\n",
    "\n",
    "\n",
    "print(\"F\\neature vectors of instances [0, 1, 2]: \", data_feature.head(3))\n",
    "\n",
    "print(\"\\nNumber of instances (N): \", num_instances)\n",
    "print(\"Number of features (F): \", data_feature.shape[1])\n",
    "print(\"Number of labels (L): \", len(data_label.unique()))\n",
    "\n",
    "print(\"\\n\\nPredicted class probabilities for instance N-3: \", Result[-3])\n",
    "print(\"Predicted class for instance N-3: \", Prediction[-3])\n",
    "print(\"\\nPredicted class probabilities for instance N-2: \", Result[-2])\n",
    "print(\"Predicted class for instance N-2: \", Prediction[-2])\n",
    "print(\"\\nPredicted class probabilities for instance N-1: \", Result[-1])\n",
    "print(\"Predicted class for instance N-1: \", Prediction[-1])\n"
   ]
  },
  {
   "cell_type": "markdown",
   "metadata": {},
   "source": [
    "## Student"
   ]
  },
  {
   "cell_type": "code",
   "execution_count": 8,
   "metadata": {},
   "outputs": [
    {
     "name": "stdout",
     "output_type": "stream",
     "text": [
      "Accuracy is  0.48382126348228044\n",
      "\n",
      "Feature vectors of instances [0, 1, 2]: \n",
      "   school sex address famsize Pstatus  Medu  Fedu     Mjob     Fjob  reason  \\\n",
      "0     GP   F       U     GT3       A  high  high  at_home  teacher  course   \n",
      "1     GP   F       U     GT3       T   low   low  at_home    other  course   \n",
      "2     GP   F       U     LE3       T   low   low  at_home    other   other   \n",
      "\n",
      "   ... higher internet romantic     famrel  freetime     goout      Dalc  \\\n",
      "0  ...    yes       no       no       good  mediocre      good  very_bad   \n",
      "1  ...    yes      yes       no  excellent  mediocre  mediocre  very_bad   \n",
      "2  ...    yes      yes       no       good  mediocre       bad       bad   \n",
      "\n",
      "       Walc    health      absences  \n",
      "0  very_bad  mediocre   four_to_six  \n",
      "1  very_bad  mediocre  one_to_three  \n",
      "2  mediocre  mediocre   four_to_six  \n",
      "\n",
      "[3 rows x 29 columns]\n",
      "\n",
      "Number of instances (N):  649\n",
      "Number of features (F):  29\n",
      "Number of labels (L):  6\n",
      "\n",
      "\n",
      "Predicted class probabilities for instance N-3:  {'D': -27.552359713949045, 'C': -29.090250109243986, 'B': -29.638141637141143, 'A': -51.147313282987014, 'F': -26.456204229824667, 'A+': -66.19239540113144}\n",
      "Predicted class for instance N-3:  F\n",
      "\n",
      "Predicted class probabilities for instance N-2:  {'D': -29.404207192607164, 'C': -35.38450368426876, 'B': -34.597061531595976, 'A': -38.26191454141717, 'F': -31.409841590368494, 'A+': -59.62386877917892}\n",
      "Predicted class for instance N-2:  D\n",
      "\n",
      "Predicted class probabilities for instance N-1:  {'D': -27.451579114373867, 'C': -33.426813330253935, 'B': -32.56646829531062, 'A': -53.22848605210638, 'F': -29.636481651604864, 'A+': -57.67350427977422}\n",
      "Predicted class for instance N-1:  D\n"
     ]
    }
   ],
   "source": [
    "# This cell should act as your \"main\" function where you call the above functions\n",
    "# on the full Student data set, and print the evaluation score. [0.33 marks]\n",
    "\n",
    "\n",
    "# First, read in the data and apply your NB model to the Student data\n",
    "file_name = \"student.csv\"\n",
    "data_feature, data_label, num_instances = preprocess(file_name)\n",
    "\n",
    "Conditional_pro, Priori_pro = train(data_feature, data_label, num_instances)\n",
    "Result, Prediction = predict(\n",
    "    data_feature, data_label, Conditional_pro, Priori_pro, num_instances)\n",
    "\n",
    "# Second, print the full evaluation results from the evaluate() function\n",
    "Student_accuracy, _ = evaluate(data_label, Prediction, num_instances)\n",
    "print(\"Accuracy is \", Student_accuracy)\n",
    "\n",
    "\n",
    "# Third, print data statistics and model predictions, as instructed below\n",
    "# N is the total number of instances, F the total number of features, L the total number of labels\n",
    "# The \"class probabilities\" may be unnormalized\n",
    "\n",
    "\n",
    "print(\"\\nFeature vectors of instances [0, 1, 2]: \\n\", data_feature.head(3))\n",
    "\n",
    "print(\"\\nNumber of instances (N): \", num_instances)\n",
    "print(\"Number of features (F): \", data_feature.shape[1])\n",
    "print(\"Number of labels (L): \", len(data_label.unique()))\n",
    "\n",
    "print(\"\\n\\nPredicted class probabilities for instance N-3: \", Result[-3])\n",
    "print(\"Predicted class for instance N-3: \", Prediction[-3])\n",
    "print(\"\\nPredicted class probabilities for instance N-2: \", Result[-2])\n",
    "print(\"Predicted class for instance N-2: \", Prediction[-2])\n",
    "print(\"\\nPredicted class probabilities for instance N-1: \", Result[-1])\n",
    "print(\"Predicted class for instance N-1: \", Prediction[-1])\n"
   ]
  },
  {
   "cell_type": "markdown",
   "metadata": {},
   "source": [
    "## Obesity"
   ]
  },
  {
   "cell_type": "code",
   "execution_count": 9,
   "metadata": {},
   "outputs": [
    {
     "name": "stdout",
     "output_type": "stream",
     "text": [
      "Accuracy is  0.7783041212695405\n",
      "\n",
      "Feature vectors of instances [0, 1, 2]: \n",
      "   Gender family_history_with_overweight FAVC  FCVC   NCP       CAEC SMOKE  \\\n",
      "0   Male                            yes  yes   mid  high  Sometimes   yes   \n",
      "1   Male                            yes  yes   mid  high  Sometimes    no   \n",
      "2   Male                            yes  yes  high  high  Sometimes    no   \n",
      "\n",
      "   CH2O SCC           FAF       TUE        CALC                 MTRANS  \n",
      "0   mid  no  low-activity  mediocre  Frequently  Public_Transportation  \n",
      "1  high  no  low-activity      good   Sometimes  Public_Transportation  \n",
      "2  high  no  low-activity      good   Sometimes  Public_Transportation  \n",
      "\n",
      "Number of instances (N):  2111\n",
      "Number of features (F):  13\n",
      "Number of labels (L):  2\n",
      "\n",
      "\n",
      "Predicted class probabilities for instance N-3:  {'not-obese': -11.010971850189438, 'obese': -16.78139621234939}\n",
      "Predicted class for instance N-3:  not-obese\n",
      "\n",
      "Predicted class probabilities for instance N-2:  {'not-obese': -10.299211743895615, 'obese': -15.249446788238833}\n",
      "Predicted class for instance N-2:  not-obese\n",
      "\n",
      "Predicted class probabilities for instance N-1:  {'not-obese': -7.261582154381628, 'obese': -5.340573755268081}\n",
      "Predicted class for instance N-1:  obese\n"
     ]
    }
   ],
   "source": [
    "\n",
    "# This cell should act as your \"main\" function where you call the above functions\n",
    "# on the full Obesity data set, and print the evaluation score. [0.33 marks]\n",
    "\n",
    "\n",
    "# First, read in the data and apply your NB model to the Obesity data\n",
    "file_name = \"obesity.csv\"\n",
    "data_feature, data_label, num_instances = preprocess(file_name)\n",
    "\n",
    "Conditional_pro, Priori_pro = train(data_feature, data_label, num_instances)\n",
    "Result, Prediction = predict(\n",
    "    data_feature, data_label, Conditional_pro, Priori_pro, num_instances)\n",
    "\n",
    "# Second, print the full evaluation results from the evaluate() function\n",
    "Obesity_accuracy, _ = evaluate(data_label, Prediction, num_instances)\n",
    "print(\"Accuracy is \", Obesity_accuracy)\n",
    "\n",
    "\n",
    "# Third, print data statistics and model predictions, as instructed below\n",
    "# N is the total number of instances, F the total number of features, L the total number of labels\n",
    "# The \"class probabilities\" may be unnormalized\n",
    "\n",
    "\n",
    "print(\"\\nFeature vectors of instances [0, 1, 2]: \\n\", data_feature.head(3))\n",
    "\n",
    "print(\"\\nNumber of instances (N): \", num_instances)\n",
    "print(\"Number of features (F): \", data_feature.shape[1])\n",
    "print(\"Number of labels (L): \", len(data_label.unique()))\n",
    "\n",
    "print(\"\\n\\nPredicted class probabilities for instance N-3: \", Result[-3])\n",
    "print(\"Predicted class for instance N-3: \", Prediction[-3])\n",
    "print(\"\\nPredicted class probabilities for instance N-2: \", Result[-2])\n",
    "print(\"Predicted class for instance N-2: \", Prediction[-2])\n",
    "print(\"\\nPredicted class probabilities for instance N-1: \", Result[-1])\n",
    "print(\"Predicted class for instance N-1: \", Prediction[-1])\n"
   ]
  },
  {
   "cell_type": "markdown",
   "metadata": {},
   "source": [
    "#### Part 2: Conceptual questions [13 marks]"
   ]
  },
  {
   "cell_type": "markdown",
   "metadata": {},
   "source": [
    "## Question 1: One-R Baseline [3 marks]"
   ]
  },
  {
   "cell_type": "code",
   "execution_count": 10,
   "metadata": {},
   "outputs": [],
   "source": [
    "# Write additional code here, if necessary (you may insert additional code cells)\n",
    "# You should implement the One-R classifier from scratch. Do not use existing implementations/learning algorithms.\n",
    "# Print the feature name and its corresponding error rate that One-R selects, in addition to any evaluation scores.\n",
    "\n",
    "\n",
    "\n",
    "def One_R(file_name):\n",
    "    data_feature, data_label, num_instances = preprocess(file_name)\n",
    "    feature_names = data_feature.keys()\n",
    "    label_names = data_label.unique()\n",
    "\n",
    "    Error_rate = {}\n",
    "    for feature in feature_names:\n",
    "        feature_cats = data_feature[feature].unique()\n",
    "        \n",
    "        total_err = 0\n",
    "        for cat in feature_cats:\n",
    "            num_cat = len(data_feature[(data_feature[feature] == cat)])\n",
    "            label_freq = {}\n",
    "            \n",
    "            for label in label_names:\n",
    "                freq = len(data_feature[(data_feature[feature] == cat) & (data_label == label)])\n",
    "                \n",
    "                label_freq[label] = freq\n",
    "            \n",
    "            \n",
    "            pre_label = max(label_freq, key=label_freq.get)\n",
    "            total_err += num_cat-label_freq[pre_label]\n",
    "        \n",
    "        Error_rate[feature] = total_err/num_instances\n",
    "\n",
    "    selected_feature = min(Error_rate, key=Error_rate.get)\n",
    "    error = Error_rate[selected_feature]\n",
    "\n",
    "    print(\"Selected feature name: \", selected_feature)\n",
    "    print(\"Corresponding error rate: \", error)\n",
    "    print(\"Corresponding accurate rate (1-e): \", 1-error)\n",
    "\n",
    "    return\n"
   ]
  },
  {
   "cell_type": "code",
   "execution_count": 11,
   "metadata": {},
   "outputs": [
    {
     "name": "stdout",
     "output_type": "stream",
     "text": [
      "Data set: Student\n",
      "Accuracy of Naive Bayes:  0.48382126348228044\n",
      "Selected feature name:  Fedu\n",
      "Corresponding error rate:  0.6656394453004623\n",
      "Corresponding accurate rate (1-e):  0.33436055469953774\n",
      "\n",
      "Data set: Obesity\n",
      "Accuracy of Naive Bayes:  0.7783041212695405\n",
      "Selected feature name:  family_history_with_overweight\n",
      "Corresponding error rate:  0.36475603979156795\n",
      "Corresponding accurate rate (1-e):  0.6352439602084321\n"
     ]
    }
   ],
   "source": [
    "print(\"Data set: Student\")\n",
    "print(\"Accuracy of Naive Bayes: \", Student_accuracy)\n",
    "One_R(\"student.csv\")\n",
    "\n",
    "print(\"\\nData set: Obesity\")\n",
    "print(\"Accuracy of Naive Bayes: \", Obesity_accuracy)\n",
    "One_R(\"obesity.csv\")\n"
   ]
  },
  {
   "cell_type": "markdown",
   "metadata": {},
   "source": [
    "### Provide your text answer to **Question 1.b** of 100-150 words in this cell.\n",
    "\n",
    "For both chosen dataset, \"Student\" and \"Obesity\", the Naive Bayes classifier performances better than the One-R baseline comparing weighted average recall. However, there are a few things to notice. \n",
    "\n",
    "First, the error rate \"Student\" is very high. One possible reason is that there are 6 labels in \"Student\", but One-R is actually a \"one vs all\" mothod. That means even though the labed is assigned to be the one with highest frequency, the proportion of that label is relatively low assuming there is no dominant label.  But for binay labeled datasets, like \"Obesity\", the error rate is much smaller. Another possible reason is that all features in \"Student\" are not strongly correlation with labels. That means it is unlikely to correctly predict based on one given feature. However, the higher weighted average recall shows that adding some features does help to improve the prediction.\n",
    "\n",
    "Second, comparing with two datasets, the accuracy of Naive Byes for \"Student\" is much worse than the accuracy for \"Obesity\". This may be because there are too many features in \"Student\", which decreases the performance of Naive Bayes model due to the naive assumption. In other words, the Naive Bayes model is so simple that causes underfitting.\n",
    "\n"
   ]
  },
  {
   "cell_type": "markdown",
   "metadata": {},
   "source": [
    "## Question 2: Evaluation strategy [3 marks] \n"
   ]
  },
  {
   "cell_type": "code",
   "execution_count": 12,
   "metadata": {},
   "outputs": [],
   "source": [
    "# Write additional code here, if necessary (you may insert additional code cells)\n",
    "\n",
    "def cross_validation(data_feature, data_label, num_instances):\n",
    "    \n",
    "\n",
    "    # Using 10-fold CV\n",
    "    N = 10\n",
    "    num_per_fold = round(num_instances / N)\n",
    "    total_accurate = 0\n",
    "\n",
    "    for i in range(N):\n",
    "        if i == N-1:\n",
    "            test_start = i*num_per_fold\n",
    "            test_end = num_instances\n",
    "            num_test = num_instances - i*num_per_fold\n",
    "\n",
    "        else:\n",
    "            test_start = i*num_per_fold\n",
    "            test_end = (i+1)*num_per_fold\n",
    "            num_test = num_per_fold\n",
    "\n",
    "        num_train = num_instances - num_test\n",
    "\n",
    "        test_feature = data_feature.iloc[test_start: test_end].reset_index(\n",
    "            drop=True)\n",
    "        test_label = data_label.iloc[test_start: test_end].reset_index(\n",
    "            drop=True)\n",
    "\n",
    "        train_feature1 = data_feature.iloc[0:test_start]\n",
    "        train_feature2 = data_feature.iloc[test_end: num_instances]\n",
    "        train_feature = pd.concat(\n",
    "            [train_feature1, train_feature2]).reset_index(drop=True)\n",
    "\n",
    "        train_label1 = data_label.iloc[0:test_start]\n",
    "        train_label2 = data_label.iloc[test_end: num_instances]\n",
    "        train_label = pd.concat(\n",
    "            [train_label1, train_label2]).reset_index(drop=True)\n",
    "\n",
    "        Conditional_pro, Priori_pro = train(\n",
    "            train_feature, train_label, num_train)\n",
    "\n",
    "        Result, Prediction = predict(\n",
    "            test_feature, test_label, Conditional_pro, Priori_pro, num_train)\n",
    "\n",
    "        \n",
    "        _, num_accuract = evaluate(test_label, Prediction, num_test)\n",
    "\n",
    "        total_accurate += num_accuract\n",
    "\n",
    "    # Accumulate accuracy\n",
    "    accuracy = total_accurate / num_instances\n",
    "\n",
    "\n",
    "    return accuracy\n"
   ]
  },
  {
   "cell_type": "code",
   "execution_count": 13,
   "metadata": {},
   "outputs": [
    {
     "name": "stdout",
     "output_type": "stream",
     "text": [
      "Data set: Bank-marketing\n",
      "Accuracy using whole data set:  0.8874142888741429\n",
      "Accuracy using cross-validation:  0.8863083388630834\n",
      "\n",
      "Data set: Obesity\n",
      "Accuracy using whole data set:  0.7783041212695405\n",
      "Accuracy using cross-validation:  0.777830412126954\n"
     ]
    }
   ],
   "source": [
    "data_feature, data_label, num_instances = preprocess(\"bank-marketing.csv\")\n",
    "Bank_cv_accuracy = cross_validation(data_feature, data_label, num_instances)\n",
    "print(\"Data set: Bank-marketing\")\n",
    "print(\"Accuracy using whole data set: \", Bank_accuracy)\n",
    "print(\"Accuracy using cross-validation: \", Bank_cv_accuracy)\n",
    "\n",
    "data_feature, data_label, num_instances = preprocess(\"obesity.csv\")\n",
    "Obesity_cv_accuracy = cross_validation(data_feature, data_label, num_instances)\n",
    "print(\"\\nData set: Obesity\")\n",
    "print(\"Accuracy using whole data set: \", Obesity_accuracy)\n",
    "print(\"Accuracy using cross-validation: \", Obesity_cv_accuracy)\n"
   ]
  },
  {
   "cell_type": "markdown",
   "metadata": {},
   "source": [
    "### Provide your text answer to **Question 2** 100-150 words in this cell.\n",
    "\n",
    "The accuracy using whole data set is a little bit higher than the accruacy using cross-validation for both dataset, \"Bank marketing\" and \"Obesity\". But the difference is only about 0.1%, which is not too much but reasonable.\n",
    "\n",
    "There are two aspects to disscuss. The first one is why evaluating using whole data set performences better. This is because the distribution of the training set is exactly the same as the distribution of the testing set. All situations in testing set have been trained and optimaised before. This high accuracy is actually meaningless because the generalization capability of the model is not tested. The second one is how the result using cross-validation is so good that there is only 0.1% difference. This is because the accuracy is accumulated through all iterations, such that the model has been trained using all information of the dataset, however, avoided the problems discussed before. \n",
    "\n"
   ]
  },
  {
   "cell_type": "markdown",
   "metadata": {},
   "source": [
    "## Question 3: Feature Selection and Naive Bayes Assumptions [3 marks]"
   ]
  },
  {
   "cell_type": "code",
   "execution_count": 14,
   "metadata": {},
   "outputs": [],
   "source": [
    "# Write additional code here, if necessary (you may insert additional code cells)\n",
    "\n",
    "from sklearn import metrics\n",
    "import seaborn as sns\n",
    "import matplotlib.pyplot as plt\n",
    "\n",
    "\n",
    "\n",
    "\n",
    "\n",
    "def plt_heatmap(df, name):\n",
    "    feature_names = df.keys()\n",
    "    cols = rows = feature_names.to_list()\n",
    "\n",
    "    scores = []\n",
    "    for row in rows:\n",
    "        score = []\n",
    "        for col in cols:\n",
    "            if row == col:\n",
    "                score.append(None)\n",
    "            else:\n",
    "                score.append(round(metrics.mutual_info_score(df[col], df[row]),5))\n",
    "        scores.append(score)\n",
    "\n",
    "    df = pd.DataFrame(scores,index = rows, columns= cols)\n",
    "    plt.figure(dpi=120)\n",
    "    sns.heatmap(data = df, vmax=0.1, cmap=sns.diverging_palette(10, 220, sep=80, n=20))\n",
    "    plt.title(name)\n",
    "    \n"
   ]
  },
  {
   "cell_type": "code",
   "execution_count": 15,
   "metadata": {},
   "outputs": [],
   "source": [
    "def Ablation(file_name):\n",
    "    data_feature, data_label, num_instances = preprocess(file_name)\n",
    "    base_accuracy = cross_validation(data_feature,data_label,num_instances)\n",
    "\n",
    "    drop =[]\n",
    "    for feature in data_feature.keys():\n",
    "        test_data = data_feature.drop(feature,axis=1)\n",
    "        test_accuracy = cross_validation(test_data,data_label,num_instances)\n",
    "        if test_accuracy > base_accuracy:\n",
    "            data_feature = test_data\n",
    "            base_accuracy = test_accuracy\n",
    "            drop.append(feature)\n",
    "\n",
    "    return base_accuracy, drop"
   ]
  },
  {
   "cell_type": "code",
   "execution_count": 16,
   "metadata": {},
   "outputs": [
    {
     "name": "stdout",
     "output_type": "stream",
     "text": [
      "Imporved accuracy using CV of Obesity is:  0.7915679772619612\n",
      "Deleted features are:  ['Gender', 'FCVC', 'TUE', 'CALC']\n",
      "Imporved accuracy using CV of Bank-marketing is:  0.8933864189338642\n",
      "Deleted features are:  ['job', 'loan', 'month']\n"
     ]
    }
   ],
   "source": [
    "file_name = \"obesity.csv\"\n",
    "accuracy, obesity_drop = Ablation(file_name)\n",
    "print(\"Imporved accuracy using CV of Obesity is: \", accuracy)\n",
    "print(\"Deleted features are: \",obesity_drop)\n",
    "\n",
    "file_name = \"bank-marketing.csv\"\n",
    "accuracy, bank_drop = Ablation(file_name)\n",
    "print(\"Imporved accuracy using CV of Bank-marketing is: \", accuracy)\n",
    "print(\"Deleted features are: \",bank_drop)"
   ]
  },
  {
   "cell_type": "code",
   "execution_count": 17,
   "metadata": {},
   "outputs": [
    {
     "data": {
      "image/png": "[encoded data removed]",
      "text/plain": [
       "<Figure size 720x480 with 2 Axes>"
      ]
     },
     "metadata": {
      "needs_background": "light"
     },
     "output_type": "display_data"
    },
    {
     "data": {
      "image/png": "[encoded data removed]",
      "text/plain": [
       "<Figure size 720x480 with 2 Axes>"
      ]
     },
     "metadata": {
      "needs_background": "light"
     },
     "output_type": "display_data"
    }
   ],
   "source": [
    "files = ['obesity.csv','bank-marketing.csv']\n",
    "for file_name in files:\n",
    "    df = pd.read_csv(file_name).drop('ID', axis=1)\n",
    "    plt_heatmap(df, file_name)\n",
    "\n"
   ]
  },
  {
   "cell_type": "code",
   "execution_count": 18,
   "metadata": {},
   "outputs": [
    {
     "data": {
      "image/png": "[encoded data removed]",
      "text/plain": [
       "<Figure size 720x480 with 2 Axes>"
      ]
     },
     "metadata": {
      "needs_background": "light"
     },
     "output_type": "display_data"
    },
    {
     "data": {
      "image/png": "[encoded data removed]",
      "text/plain": [
       "<Figure size 720x480 with 2 Axes>"
      ]
     },
     "metadata": {
      "needs_background": "light"
     },
     "output_type": "display_data"
    }
   ],
   "source": [
    "file_name = 'obesity.csv'\n",
    "df = pd.read_csv(file_name).drop(\n",
    "    'ID', axis=1).drop(obesity_drop, axis=1)\n",
    "\n",
    "plt_heatmap(df, file_name)\n",
    "\n",
    "\n",
    "file_name = 'bank-marketing.csv'\n",
    "df = pd.read_csv(file_name).drop('ID',\n",
    "                                 axis=1).drop(bank_drop, axis=1)\n",
    "plt_heatmap(df, file_name)\n"
   ]
  },
  {
   "cell_type": "markdown",
   "metadata": {},
   "source": [
    "### Provide your text answer to **Question 3.a** of 100-150 words in this cell.\n",
    "\n",
    "The first pair of heat plots shows the original mutual information of features, including label. It clearly shows that some features are relatively hightly correlated to label, such as \"Family history\", \"FAVC\", \"CAEC\" in Obesity, and somre features are not correlated to label but dependent to each other, such as \"Job\" and \"month\" in Bank-marketing. \n",
    "\n",
    "To improve the Naive Bayse model based on assumptions, features should be hightly correlated with lebal but independet with other features. Using Ablation approach, ['Gender', 'FCVC', 'TUE', 'CALC'] are deleted from Obesity and ['job', 'loan', 'month'] are deleted from Bank-marketing. Accuracy is increased by 1 to 2 percent respectively. This generally follows the assumption that dependent features that are not correlated to label shoud be removed. Mutual information differences can be seen from the second pairs of heat plots."
   ]
  },
  {
   "cell_type": "markdown",
   "metadata": {},
   "source": [
    "### Provide your text answer to **Question 3.b** of 100-150 words in this cell.\n",
    "\n",
    "Assumptions: \n",
    "1. Features of an instance are conditionally independent given the class\n",
    "2. Instances are independent of each other\n",
    "3. The distribution of data in the training instances is the same as the distribution of data in the test instances\n",
    "\n",
    "Reason:\n",
    "If the first assumption are violated, the naive assumption that P(x1,x2,...,xn| Y ) = P(Y)*Product(P(xi|Y))) will not hold. This can be problematic to find out all possible combination of features given Y with large features. Like case Student, that has 29 features, 6 labels and each feature has more than 2 categories, the training set will be very huge to cover all possibilities to not violate the assumption 3. Another problem is that using dependent features will amplify the impact of certain information since same piece of information is used multiple times, such as \"Job\" and \"Education\" in Banking-marketing. \n",
    "\n",
    "Assumption 2 and 3 guarantees that the model is not biased. If the distribution is not the same, the model will face some uncovered situations, which will eventually lead to poor performance. Dealing with unseens situations needs extra stratigies, such as smoothing. This problem happens when traing for Obesity using cross-validation. Just using smoothing will not correctly represent the true likelyhood of the unseen feature or label. If assumption 2 violates, even if training set is big, the model still does not have the ability to generalize. In addition, dependent instances will cause the model to overfit as the same as conditionally independent.\n"
   ]
  },
  {
   "cell_type": "markdown",
   "metadata": {},
   "source": [
    "## Question 4: Feature Selection and Ethics [4 marks]"
   ]
  },
  {
   "cell_type": "code",
   "execution_count": 19,
   "metadata": {},
   "outputs": [
    {
     "name": "stdout",
     "output_type": "stream",
     "text": [
      "Origianl accuracy:  0.3574730354391371\n",
      "New accuracy:  0.33436055469953774\n"
     ]
    }
   ],
   "source": [
    "# Write additional code here, if necessary (you may insert additional code cells)\n",
    "\n",
    "file_name = 'student.csv'\n",
    "\n",
    "data_feature, data_label, num_instances = preprocess(file_name)\n",
    "\n",
    "original_accuracy = cross_validation(data_feature, data_label, num_instances)\n",
    "\n",
    "drop = ['sex','address','Pstatus','Medu','Fedu','Mjob','Fjob',]\n",
    "\n",
    "new_feature = data_feature.drop(drop, axis=1)\n",
    "new_accuracy = cross_validation(new_feature, data_label, num_instances)\n",
    "\n",
    "print(\"Origianl accuracy: \", original_accuracy)\n",
    "print(\"New accuracy: \", new_accuracy)"
   ]
  },
  {
   "cell_type": "markdown",
   "metadata": {},
   "source": [
    "### Provide your text answer to **Question 4.a** of 100-150 words in this cell.\n",
    "\n",
    "The Student data set  provides information not only about personal behavior, like \"goout\" and \"health\", but also about their family background like \"fedu\" and \"Pstatus\". These background information may truely help model to predict the grade of that student. However, it may cause a problem that students with \"better\" family background, such as parents have high education, will always be prediected with higher grades. In this case, students with low parents' educational backgrounds are more likely to be rejected than students with high educational backgrounds.  Same problem may arise due to other features, like parent's job (Occupational Discrimination), home address (Regional Discrimination). \n",
    "\n"
   ]
  },
  {
   "cell_type": "markdown",
   "metadata": {},
   "source": [
    "### Provide your text answer to **Question 4.b** of 100-150 words in this cell.\n",
    "\n",
    "After removimg ethically problematic features ('sex','address','Pstatus','Medu','Fedu','Mjob','Fjob'), the accuracy decreases about 2%. This is reasonable becuase some features may be highly correlated with labels which helps model to predict. Losing those information will definitely degrade the performance of the model.\n",
    "\n"
   ]
  },
  {
   "cell_type": "markdown",
   "metadata": {},
   "source": [
    "### Provide your text answer to **Question 4.c** of 100-150 words in this cell.\n",
    "\n",
    "It's not enough. It is necessary to ensure that the training set is not biased. If the training instances are select in a specific way, ethical problems may also arise. For example, only students who are female with low grade or male with high grade are selected into the training set. It is clearly that male students are more likely to be predicted with high grade in testing set, based on the assumption that distribution of training is the same as the distribution of testing. In this case, strong correlations between feature and label are artificially made.\n",
    "\n"
   ]
  },
  {
   "cell_type": "markdown",
   "metadata": {},
   "source": [
    "<b>Authorship Declaration</b>:\n",
    "\n",
    "   (1) I certify that the program contained in this submission is completely\n",
    "   my own individual work, except where explicitly noted by comments that\n",
    "   provide details otherwise.  I understand that work that has been developed\n",
    "   by another student, or by me in collaboration with other students,\n",
    "   or by non-students as a result of request, solicitation, or payment,\n",
    "   may not be submitted for assessment in this subject.  I understand that\n",
    "   submitting for assessment work developed by or in collaboration with\n",
    "   other students or non-students constitutes Academic Misconduct, and\n",
    "   may be penalized by mark deductions, or by other penalties determined\n",
    "   via the University of Melbourne Academic Honesty Policy, as described\n",
    "   at https://academicintegrity.unimelb.edu.au.\n",
    "\n",
    "   (2) I also certify that I have not provided a copy of this work in either\n",
    "   softcopy or hardcopy or any other form to any other student, and nor will\n",
    "   I do so until after the marks are released. I understand that providing\n",
    "   my work to other students, regardless of my intention or any undertakings\n",
    "   made to me by that other student, is also Academic Misconduct.\n",
    "\n",
    "   (3) I further understand that providing a copy of the assignment\n",
    "   specification to any form of code authoring or assignment tutoring\n",
    "   service, or drawing the attention of others to such services and code\n",
    "   that may have been made available via such a service, may be regarded\n",
    "   as Student General Misconduct (interfering with the teaching activities\n",
    "   of the University and/or inciting others to commit Academic Misconduct).\n",
    "   I understand that an allegation of Student General Misconduct may arise\n",
    "   regardless of whether or not I personally make use of such solutions\n",
    "   or sought benefit from such actions.\n",
    "\n",
    "   <b>Signed by</b>: Hongbo Zhou 1067814\n",
    "   \n",
    "   <b>Dated</b>: 2022-8-30"
   ]
  },
  {
   "cell_type": "code",
   "execution_count": null,
   "metadata": {},
   "outputs": [],
   "source": []
  }
 ],
 "metadata": {
  "kernelspec": {
   "display_name": "Python 3.10.4 64-bit",
   "language": "python",
   "name": "python3"
  },
  "language_info": {
   "codemirror_mode": {
    "name": "ipython",
    "version": 3
   },
   "file_extension": ".py",
   "mimetype": "text/x-python",
   "name": "python",
   "nbconvert_exporter": "python",
   "pygments_lexer": "ipython3",
   "version": "3.10.4"
  },
  "vscode": {
   "interpreter": {
    "hash": "2469a70536e4d2335a2ea8907942d0699c37342a371ac185bdb5b0aa6f073890"
   }
  }
 },
 "nbformat": 4,
 "nbformat_minor": 2
}
