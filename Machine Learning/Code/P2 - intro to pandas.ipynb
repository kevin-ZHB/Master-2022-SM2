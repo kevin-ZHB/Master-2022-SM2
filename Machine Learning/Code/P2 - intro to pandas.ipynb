{
 "cells": [
  {
   "cell_type": "markdown",
   "metadata": {},
   "source": [
    "### The University of Melbourne, School of Computing and Information Systems\n",
    "# COMP90049 Introduction Machine Learning, 2022 Semester 2\n",
    "\n",
    "## Week 2 - Introduction to Pandas"
   ]
  },
  {
   "cell_type": "markdown",
   "metadata": {},
   "source": [
    "## Cells\n",
    "Jupyter notebooks contains two main types of cells:\n",
    "- Markdown cells: These can be used to contain text, equations and other non-code items.  The cell that you're reading right now is a markdown cell.  You can use [Markdown](https://www.markdownguide.org/) to format your text.  If you prefer, you can also format your text using <b>HTML</b>.  Clicking the <button class='btn btn-default btn-xs'><i class=\"fa-play fa\"></i><span class=\"toolbar-btn-label\">Run</span></button> button button will format and display your text.\n",
    "- Code cells: These contain code segments that can be executed individually.  When executed, the output of the code will be displayed below the code cell.\n",
    "\n",
    "## Keyboard Shortcuts\n",
    "Cell Running shortcuts:\n",
    "- _You can tell you are selecting a cell when the outline is colored is green_\n",
    "- `shift + enter` : Run current cell - keyboard shortcut for the <button class='btn btn-default btn-xs'><i class=\"fa-play fa\"></i><span class=\"toolbar-btn-label\">Run</span></button> button\n",
    "- `ctrl + enter` : Run selected cells\n",
    "\n",
    "Command mode (press `esc` to enter):\n",
    "- - _You can tell you are in Command Mode when the outline is colored is blue_\n",
    "- Enter command mode pressing `esc` (blue highlight)\n",
    "- `a` to create a cell **above**\n",
    "- `b` to create a cell **below**\n",
    "- `dd` (double d) to **delete** a cell\n",
    "- `m` to make the cell render in **markdown**\n",
    "- `r` to make the cell render in **raw** text\n",
    "- `y` to make the cell render python code\n",
    "- `enter` to \"edit\" the cell\n",
    "\n",
    "Code Shortcuts:\n",
    "- `shift + tab` : brings function/method arguments up"
   ]
  },
  {
   "cell_type": "markdown",
   "metadata": {},
   "source": [
    "# Pandas\n",
    "Depending on the use case, data come in various shapes and structures. One of the most common forms is *tabular data*, or data tables (think Excel spreadsheets or SQL tables). It's both human-readable and machine-readable, and it's easy to *vectorize* any transformation to our data. Here's a visualisation of what a DataFrame looks like:\n",
    "![Dataframe](images/dataframe.jpg)\n",
    "\n",
    "\n",
    "\n",
    "To work with tabular data in Python, we use the library `pandas`. We **strongly recommend** you bookmark the [API reference (Documentation)](https://pandas.pydata.org/pandas-docs/stable/reference/index.html) which will serve as a bible for this subject."
   ]
  },
  {
   "cell_type": "markdown",
   "metadata": {},
   "source": [
    "## Installing Packages\n",
    "\n",
    "Depending on the installation of Jupyter Notebook and your OS (Operating System), you may need to *install* the `pandas` package. To do so, run the command that matches your system:\n",
    "```python\n",
    "# for Windows with only Python installed\n",
    "pip install pandas\n",
    "\n",
    "# for Mac or Linux with Python3 installed\n",
    "pip3 install pandas\n",
    "```"
   ]
  },
  {
   "cell_type": "markdown",
   "metadata": {},
   "source": [
    "Then we import `pandas`. The only note here is that we are importing and giving it the alias `pd` to shorten the amount of code we need to write (`pd.DataFrame()` vs `pandas.DataFrame()`)"
   ]
  },
  {
   "cell_type": "code",
   "execution_count": 70,
   "metadata": {},
   "outputs": [],
   "source": [
    "import pandas as pd"
   ]
  },
  {
   "cell_type": "markdown",
   "metadata": {},
   "source": [
    "## <u>Concept: Series</u>\n",
    "A Series is a One-dimensional array-like object containing the array of data and an associated array of data labels called index. It's best to think of Series as a single column in Excel, or a vertical `list`-like object. Here's a visual example of what it looks like:\n",
    "\n",
    "![Dataframe](images/series.jpg)"
   ]
  },
  {
   "cell_type": "markdown",
   "metadata": {},
   "source": [
    "### Creating a Pandas Series"
   ]
  },
  {
   "cell_type": "code",
   "execution_count": 71,
   "metadata": {},
   "outputs": [],
   "source": [
    "# define a list of values\n",
    "sales_list = [107512, 103208, 99388, 103838, 104631]\n",
    "\n",
    "# create a Pandas series\n",
    "sales_series = pd.Series(sales_list)"
   ]
  },
  {
   "cell_type": "code",
   "execution_count": 72,
   "metadata": {},
   "outputs": [
    {
     "data": {
      "text/plain": [
       "0    107512\n",
       "1    103208\n",
       "2     99388\n",
       "3    103838\n",
       "4    104631\n",
       "dtype: int64"
      ]
     },
     "execution_count": 72,
     "metadata": {},
     "output_type": "execute_result"
    }
   ],
   "source": [
    "# notice how we can just \"display\" the variable without printing it\n",
    "sales_series"
   ]
  },
  {
   "cell_type": "markdown",
   "metadata": {},
   "source": [
    "### <u>Concept: Attributes and Methods of a Python object</u>\n",
    "The Pandas `series` also comes with useful attributes in methods. To be specific:  \n",
    "1. Attributes are static variables that are stored when the object is created.\n",
    "2. Methods are functions that a pre-defined with that object.\n",
    "\n",
    "Examples of `series` attributes:\n",
    "- `series.index` attribute (returns the index field like `dict.keys()`)\n",
    "- `series.values` attribute (returns the values like `dict.values()`)\n",
    "\n",
    "Examples of `series` methods:\n",
    "- `series.mean()` method (computes the average)\n",
    "- `series.sum()` method (computes the grand total sum)\n",
    "\n",
    "To get all the attributes and methods available, you can call `help(pd.Series)`. \n",
    "\n",
    "\n",
    "There are a lot of functions, methods and attributes in the `pandas` library, so we won't be covering all of them in this subject. We encourage students to look up the [API Documentation](https://pandas.pydata.org/pandas-docs/stable/reference/api/pandas.Series.html) if you wish to use something outside the scope of this subject.\n",
    "\n"
   ]
  },
  {
   "cell_type": "code",
   "execution_count": 73,
   "metadata": {},
   "outputs": [
    {
     "name": "stdout",
     "output_type": "stream",
     "text": [
      "RangeIndex(start=0, stop=5, step=1)\n",
      "[107512 103208  99388 103838 104631]\n"
     ]
    }
   ],
   "source": [
    "# The default indexing starts from zero\n",
    "print(sales_series.index)\n",
    "\n",
    "# Retrieve the values of the series\n",
    "print(sales_series.values)"
   ]
  },
  {
   "cell_type": "code",
   "execution_count": 74,
   "metadata": {},
   "outputs": [
    {
     "name": "stdout",
     "output_type": "stream",
     "text": [
      "The Kissing Booth                    107512\n",
      "Between Worlds                       103208\n",
      "Sicario: Day of the Soldado           99388\n",
      "Spider-Man: Into the Spider-Verse    103838\n",
      "Ant-Man and the Wasp                 104631\n",
      "dtype: int64\n"
     ]
    }
   ],
   "source": [
    "# Create your own index using lists\n",
    "# Indexes don't have to be integers!\n",
    "new_index = ['The Kissing Booth', \n",
    "            'Between Worlds', \n",
    "            'Sicario: Day of the Soldado', \n",
    "            'Spider-Man: Into the Spider-Verse', \n",
    "            'Ant-Man and the Wasp']\n",
    "\n",
    "sales_series.index  = new_index\n",
    "\n",
    "# Verify the index has been changed\n",
    "print(sales_series)"
   ]
  },
  {
   "cell_type": "markdown",
   "metadata": {},
   "source": [
    "Like dictionaries, we can access values using `[]`"
   ]
  },
  {
   "cell_type": "code",
   "execution_count": 75,
   "metadata": {},
   "outputs": [
    {
     "name": "stdout",
     "output_type": "stream",
     "text": [
      "104631\n"
     ]
    }
   ],
   "source": [
    "# Access the sales values based on index\n",
    "print(sales_series['Ant-Man and the Wasp'])"
   ]
  },
  {
   "cell_type": "code",
   "execution_count": 76,
   "metadata": {},
   "outputs": [
    {
     "name": "stdout",
     "output_type": "stream",
     "text": [
      "Dragon Ball Super: Origin of the Saiyans    105982\n",
      "Animal World                                108293\n",
      "Avengers: Infinity War                      112178\n",
      "A Quiet Place                               103813\n",
      "Bumblebee                                   106562\n",
      "dtype: int64\n"
     ]
    }
   ],
   "source": [
    "# Create a series from a python dict\n",
    "sales_dict = {'Dragon Ball Super: Origin of the Saiyans': 105982,\n",
    "              'Animal World': 108293,\n",
    "              'Avengers: Infinity War': 112178,\n",
    "              'A Quiet Place': 103813,\n",
    "              'Bumblebee': 106562}\n",
    "\n",
    "sales_series_dict = pd.Series(sales_dict)\n",
    "print(sales_series_dict)"
   ]
  },
  {
   "cell_type": "markdown",
   "metadata": {},
   "source": [
    "If we want to concatenate two series together, we can use `pd.concat([LIST OF SERIES], axis='rows')`."
   ]
  },
  {
   "cell_type": "code",
   "execution_count": 77,
   "metadata": {},
   "outputs": [
    {
     "name": "stdout",
     "output_type": "stream",
     "text": [
      "The Kissing Booth                           107512\n",
      "Between Worlds                              103208\n",
      "Sicario: Day of the Soldado                  99388\n",
      "Spider-Man: Into the Spider-Verse           103838\n",
      "Ant-Man and the Wasp                        104631\n",
      "Dragon Ball Super: Origin of the Saiyans    105982\n",
      "Animal World                                108293\n",
      "Avengers: Infinity War                      112178\n",
      "A Quiet Place                               103813\n",
      "Bumblebee                                   106562\n",
      "dtype: int64\n"
     ]
    }
   ],
   "source": [
    "# Vertically concatenate two series\n",
    "sales_series = pd.concat([sales_series, sales_series_dict], axis='rows')\n",
    "print(sales_series)"
   ]
  },
  {
   "cell_type": "markdown",
   "metadata": {},
   "source": [
    "Here are some operations that we can do (such as filtering the data).\n",
    "- Here, we use `.loc` to *locate* the values that fulfill the conditions. \n",
    "- `.iloc` can also be used which *locates* the *indicies* that correspond to the slice provided"
   ]
  },
  {
   "cell_type": "code",
   "execution_count": 78,
   "metadata": {},
   "outputs": [
    {
     "data": {
      "text/plain": [
       "104631"
      ]
     },
     "execution_count": 78,
     "metadata": {},
     "output_type": "execute_result"
    }
   ],
   "source": [
    "# Slicing the series using index\n",
    "sales_series.loc['Ant-Man and the Wasp']"
   ]
  },
  {
   "cell_type": "code",
   "execution_count": 79,
   "metadata": {},
   "outputs": [
    {
     "data": {
      "text/plain": [
       "104631"
      ]
     },
     "execution_count": 79,
     "metadata": {},
     "output_type": "execute_result"
    }
   ],
   "source": [
    "# This is an alternative syntax\n",
    "sales_series['Ant-Man and the Wasp']"
   ]
  },
  {
   "cell_type": "code",
   "execution_count": 80,
   "metadata": {},
   "outputs": [
    {
     "data": {
      "text/plain": [
       "Sicario: Day of the Soldado    99388\n",
       "dtype: int64"
      ]
     },
     "execution_count": 80,
     "metadata": {},
     "output_type": "execute_result"
    }
   ],
   "source": [
    "# Slicing the series using a boolean array operation \n",
    "sales_series.loc[sales_series < 100000]"
   ]
  },
  {
   "cell_type": "code",
   "execution_count": 81,
   "metadata": {},
   "outputs": [
    {
     "data": {
      "text/plain": [
       "The Kissing Booth                    107512\n",
       "Between Worlds                       103208\n",
       "Sicario: Day of the Soldado           99388\n",
       "Spider-Man: Into the Spider-Verse    103838\n",
       "Ant-Man and the Wasp                 104631\n",
       "dtype: int64"
      ]
     },
     "execution_count": 81,
     "metadata": {},
     "output_type": "execute_result"
    }
   ],
   "source": [
    "# Slicing the series using iloc\n",
    "sales_series.iloc[0:5]"
   ]
  },
  {
   "cell_type": "code",
   "execution_count": 82,
   "metadata": {},
   "outputs": [
    {
     "data": {
      "text/plain": [
       "The Kissing Booth                           215024\n",
       "Between Worlds                              206416\n",
       "Sicario: Day of the Soldado                 198776\n",
       "Spider-Man: Into the Spider-Verse           207676\n",
       "Ant-Man and the Wasp                        209262\n",
       "Dragon Ball Super: Origin of the Saiyans    211964\n",
       "Animal World                                216586\n",
       "Avengers: Infinity War                      224356\n",
       "A Quiet Place                               207626\n",
       "Bumblebee                                   213124\n",
       "dtype: int64"
      ]
     },
     "execution_count": 82,
     "metadata": {},
     "output_type": "execute_result"
    }
   ],
   "source": [
    "# Doubling the values of the series object\n",
    "doubled = sales_series * 2\n",
    "doubled"
   ]
  },
  {
   "cell_type": "code",
   "execution_count": 83,
   "metadata": {},
   "outputs": [
    {
     "data": {
      "text/plain": [
       "105540.5"
      ]
     },
     "execution_count": 83,
     "metadata": {},
     "output_type": "execute_result"
    }
   ],
   "source": [
    "# Finding the average value of the series\n",
    "sales_series.mean()"
   ]
  },
  {
   "cell_type": "code",
   "execution_count": 84,
   "metadata": {},
   "outputs": [
    {
     "name": "stdout",
     "output_type": "stream",
     "text": [
      "Movie Name\n",
      "The Kissing Booth                           107512\n",
      "Between Worlds                              103208\n",
      "Sicario: Day of the Soldado                  99388\n",
      "Spider-Man: Into the Spider-Verse           103838\n",
      "Ant-Man and the Wasp                        104631\n",
      "Dragon Ball Super: Origin of the Saiyans    105982\n",
      "Animal World                                108293\n",
      "Avengers: Infinity War                      112178\n",
      "A Quiet Place                               103813\n",
      "Bumblebee                                   106562\n",
      "Name: Total tickets sold, dtype: int64\n"
     ]
    }
   ],
   "source": [
    "# Defining the column name\n",
    "sales_series.name = 'Total tickets sold'\n",
    "# Defining the name of the index\n",
    "sales_series.index.name = 'Movie Name'\n",
    "\n",
    "print(sales_series)"
   ]
  },
  {
   "cell_type": "markdown",
   "metadata": {},
   "source": [
    "\n",
    "\n",
    "## Exercise\n",
    "1. Find all movies that sold more than 100,000 but under 105,000 movie tickets.  \n",
    "_Hint: You may want to use `.loc[]` for this._  \n",
    "\n",
    "\n",
    "2. Find the grand total number of movie tickets sold."
   ]
  },
  {
   "cell_type": "code",
   "execution_count": 85,
   "metadata": {},
   "outputs": [],
   "source": [
    "### ANSWER 1 HERE\n"
   ]
  },
  {
   "cell_type": "code",
   "execution_count": 86,
   "metadata": {},
   "outputs": [],
   "source": [
    "### ANSWER 2 HERE\n"
   ]
  },
  {
   "cell_type": "markdown",
   "metadata": {},
   "source": [
    "## <u>Concept: Dataframe</u>\n",
    "A DataFrame has both row and column indices like a `series` and contains many useful methods to aid your analysis. \n",
    "- [API reference](https://pandas.pydata.org/pandas-docs/stable/reference/index.html) details all of the functionality provided by `pandas`.  \n",
    "- You will particularly need consult the [DataFrame](https://pandas.pydata.org/pandas-docs/stable/reference/frame.html) reference page.\n",
    "\n",
    "\n",
    "Here's a visualisation of what a DataFrame looks like:\n",
    "![Dataframe](images/dataframe.jpg)"
   ]
  },
  {
   "cell_type": "markdown",
   "metadata": {},
   "source": [
    "### Working with Pandas Dataframe"
   ]
  },
  {
   "cell_type": "code",
   "execution_count": 87,
   "metadata": {},
   "outputs": [],
   "source": [
    "tickets_sold_dict =  {'The Kissing Booth': 107512,\n",
    "                        'Between Worlds': 103208,\n",
    "                        'Sicario: Day of the Soldado': 99388,\n",
    "                        'Spider-Man: Into the Spider-Verse': 103838,\n",
    "                        'Ant-Man and the Wasp': 104631, \n",
    "                        'Dragon Ball Super: Origin of the Saiyans': 105982,\n",
    "                        'Animal World': 108293,\n",
    "                        'Avengers: Infinity War': 112178,\n",
    "                        'A Quiet Place': 103813,\n",
    "                        'Bumblebee': 106562}\n",
    "\n",
    "tickets_sold = pd.Series(tickets_sold_dict)"
   ]
  },
  {
   "cell_type": "code",
   "execution_count": 88,
   "metadata": {},
   "outputs": [],
   "source": [
    "max_capacity_dict = {'A Quiet Place': 427725,\n",
    "                      'Animal World': 427300,\n",
    "                      'Ant-Man and the Wasp': 429350,\n",
    "                      'Avengers: Infinity War': 424325,\n",
    "                      'Between Worlds': 423375,\n",
    "                      'Bumblebee': 427950,\n",
    "                      'Dragon Ball Super: Origin of the Saiyans': 423225,\n",
    "                      'Sicario: Day of the Soldado': 427950,\n",
    "                      'Spider-Man: Into the Spider-Verse': 428375,\n",
    "                      'The Kissing Booth': 418750}\n",
    "\n",
    "max_capacity = pd.Series(max_capacity_dict)"
   ]
  },
  {
   "cell_type": "code",
   "execution_count": 89,
   "metadata": {},
   "outputs": [
    {
     "data": {
      "text/html": [
       "<div>\n",
       "<style scoped>\n",
       "    .dataframe tbody tr th:only-of-type {\n",
       "        vertical-align: middle;\n",
       "    }\n",
       "\n",
       "    .dataframe tbody tr th {\n",
       "        vertical-align: top;\n",
       "    }\n",
       "\n",
       "    .dataframe thead th {\n",
       "        text-align: right;\n",
       "    }\n",
       "</style>\n",
       "<table border=\"1\" class=\"dataframe\">\n",
       "  <thead>\n",
       "    <tr style=\"text-align: right;\">\n",
       "      <th></th>\n",
       "      <th>tickets_sold</th>\n",
       "      <th>max_capacity</th>\n",
       "    </tr>\n",
       "  </thead>\n",
       "  <tbody>\n",
       "    <tr>\n",
       "      <th>A Quiet Place</th>\n",
       "      <td>103813</td>\n",
       "      <td>427725</td>\n",
       "    </tr>\n",
       "    <tr>\n",
       "      <th>Animal World</th>\n",
       "      <td>108293</td>\n",
       "      <td>427300</td>\n",
       "    </tr>\n",
       "    <tr>\n",
       "      <th>Ant-Man and the Wasp</th>\n",
       "      <td>104631</td>\n",
       "      <td>429350</td>\n",
       "    </tr>\n",
       "    <tr>\n",
       "      <th>Avengers: Infinity War</th>\n",
       "      <td>112178</td>\n",
       "      <td>424325</td>\n",
       "    </tr>\n",
       "    <tr>\n",
       "      <th>Between Worlds</th>\n",
       "      <td>103208</td>\n",
       "      <td>423375</td>\n",
       "    </tr>\n",
       "    <tr>\n",
       "      <th>Bumblebee</th>\n",
       "      <td>106562</td>\n",
       "      <td>427950</td>\n",
       "    </tr>\n",
       "    <tr>\n",
       "      <th>Dragon Ball Super: Origin of the Saiyans</th>\n",
       "      <td>105982</td>\n",
       "      <td>423225</td>\n",
       "    </tr>\n",
       "    <tr>\n",
       "      <th>Sicario: Day of the Soldado</th>\n",
       "      <td>99388</td>\n",
       "      <td>427950</td>\n",
       "    </tr>\n",
       "    <tr>\n",
       "      <th>Spider-Man: Into the Spider-Verse</th>\n",
       "      <td>103838</td>\n",
       "      <td>428375</td>\n",
       "    </tr>\n",
       "    <tr>\n",
       "      <th>The Kissing Booth</th>\n",
       "      <td>107512</td>\n",
       "      <td>418750</td>\n",
       "    </tr>\n",
       "  </tbody>\n",
       "</table>\n",
       "</div>"
      ],
      "text/plain": [
       "                                          tickets_sold  max_capacity\n",
       "A Quiet Place                                   103813        427725\n",
       "Animal World                                    108293        427300\n",
       "Ant-Man and the Wasp                            104631        429350\n",
       "Avengers: Infinity War                          112178        424325\n",
       "Between Worlds                                  103208        423375\n",
       "Bumblebee                                       106562        427950\n",
       "Dragon Ball Super: Origin of the Saiyans        105982        423225\n",
       "Sicario: Day of the Soldado                      99388        427950\n",
       "Spider-Man: Into the Spider-Verse               103838        428375\n",
       "The Kissing Booth                               107512        418750"
      ]
     },
     "execution_count": 89,
     "metadata": {},
     "output_type": "execute_result"
    }
   ],
   "source": [
    "# create a DataFrame object from the series objects\n",
    "sales_df = pd.DataFrame({'tickets_sold': tickets_sold, \n",
    "                         'max_capacity': max_capacity})\n",
    "sales_df"
   ]
  },
  {
   "cell_type": "markdown",
   "metadata": {},
   "source": [
    "As you can see, a DataFrame is essentially made up of several `series` (i.e columns or features)."
   ]
  },
  {
   "cell_type": "code",
   "execution_count": 90,
   "metadata": {},
   "outputs": [
    {
     "data": {
      "text/plain": [
       "A Quiet Place                               103813\n",
       "Animal World                                108293\n",
       "Ant-Man and the Wasp                        104631\n",
       "Avengers: Infinity War                      112178\n",
       "Between Worlds                              103208\n",
       "Bumblebee                                   106562\n",
       "Dragon Ball Super: Origin of the Saiyans    105982\n",
       "Sicario: Day of the Soldado                  99388\n",
       "Spider-Man: Into the Spider-Verse           103838\n",
       "The Kissing Booth                           107512\n",
       "Name: tickets_sold, dtype: int64"
      ]
     },
     "execution_count": 90,
     "metadata": {},
     "output_type": "execute_result"
    }
   ],
   "source": [
    "# access a specific column (like dict[key])\n",
    "sales_df['tickets_sold']"
   ]
  },
  {
   "cell_type": "code",
   "execution_count": 91,
   "metadata": {},
   "outputs": [
    {
     "data": {
      "text/html": [
       "<div>\n",
       "<style scoped>\n",
       "    .dataframe tbody tr th:only-of-type {\n",
       "        vertical-align: middle;\n",
       "    }\n",
       "\n",
       "    .dataframe tbody tr th {\n",
       "        vertical-align: top;\n",
       "    }\n",
       "\n",
       "    .dataframe thead th {\n",
       "        text-align: right;\n",
       "    }\n",
       "</style>\n",
       "<table border=\"1\" class=\"dataframe\">\n",
       "  <thead>\n",
       "    <tr style=\"text-align: right;\">\n",
       "      <th></th>\n",
       "      <th>max_capacity</th>\n",
       "      <th>tickets_sold</th>\n",
       "    </tr>\n",
       "  </thead>\n",
       "  <tbody>\n",
       "    <tr>\n",
       "      <th>A Quiet Place</th>\n",
       "      <td>427725</td>\n",
       "      <td>103813</td>\n",
       "    </tr>\n",
       "    <tr>\n",
       "      <th>Animal World</th>\n",
       "      <td>427300</td>\n",
       "      <td>108293</td>\n",
       "    </tr>\n",
       "    <tr>\n",
       "      <th>Ant-Man and the Wasp</th>\n",
       "      <td>429350</td>\n",
       "      <td>104631</td>\n",
       "    </tr>\n",
       "    <tr>\n",
       "      <th>Avengers: Infinity War</th>\n",
       "      <td>424325</td>\n",
       "      <td>112178</td>\n",
       "    </tr>\n",
       "    <tr>\n",
       "      <th>Between Worlds</th>\n",
       "      <td>423375</td>\n",
       "      <td>103208</td>\n",
       "    </tr>\n",
       "    <tr>\n",
       "      <th>Bumblebee</th>\n",
       "      <td>427950</td>\n",
       "      <td>106562</td>\n",
       "    </tr>\n",
       "    <tr>\n",
       "      <th>Dragon Ball Super: Origin of the Saiyans</th>\n",
       "      <td>423225</td>\n",
       "      <td>105982</td>\n",
       "    </tr>\n",
       "    <tr>\n",
       "      <th>Sicario: Day of the Soldado</th>\n",
       "      <td>427950</td>\n",
       "      <td>99388</td>\n",
       "    </tr>\n",
       "    <tr>\n",
       "      <th>Spider-Man: Into the Spider-Verse</th>\n",
       "      <td>428375</td>\n",
       "      <td>103838</td>\n",
       "    </tr>\n",
       "    <tr>\n",
       "      <th>The Kissing Booth</th>\n",
       "      <td>418750</td>\n",
       "      <td>107512</td>\n",
       "    </tr>\n",
       "  </tbody>\n",
       "</table>\n",
       "</div>"
      ],
      "text/plain": [
       "                                          max_capacity  tickets_sold\n",
       "A Quiet Place                                   427725        103813\n",
       "Animal World                                    427300        108293\n",
       "Ant-Man and the Wasp                            429350        104631\n",
       "Avengers: Infinity War                          424325        112178\n",
       "Between Worlds                                  423375        103208\n",
       "Bumblebee                                       427950        106562\n",
       "Dragon Ball Super: Origin of the Saiyans        423225        105982\n",
       "Sicario: Day of the Soldado                     427950         99388\n",
       "Spider-Man: Into the Spider-Verse               428375        103838\n",
       "The Kissing Booth                               418750        107512"
      ]
     },
     "execution_count": 91,
     "metadata": {},
     "output_type": "execute_result"
    }
   ],
   "source": [
    "# access multiple column (note the order)\n",
    "sales_df[['max_capacity', 'tickets_sold']]"
   ]
  },
  {
   "cell_type": "code",
   "execution_count": 92,
   "metadata": {},
   "outputs": [
    {
     "data": {
      "text/html": [
       "<div>\n",
       "<style scoped>\n",
       "    .dataframe tbody tr th:only-of-type {\n",
       "        vertical-align: middle;\n",
       "    }\n",
       "\n",
       "    .dataframe tbody tr th {\n",
       "        vertical-align: top;\n",
       "    }\n",
       "\n",
       "    .dataframe thead th {\n",
       "        text-align: right;\n",
       "    }\n",
       "</style>\n",
       "<table border=\"1\" class=\"dataframe\">\n",
       "  <thead>\n",
       "    <tr style=\"text-align: right;\">\n",
       "      <th></th>\n",
       "      <th>tickets_sold</th>\n",
       "      <th>max_capacity</th>\n",
       "    </tr>\n",
       "  </thead>\n",
       "  <tbody>\n",
       "    <tr>\n",
       "      <th>Sicario: Day of the Soldado</th>\n",
       "      <td>99388</td>\n",
       "      <td>427950</td>\n",
       "    </tr>\n",
       "  </tbody>\n",
       "</table>\n",
       "</div>"
      ],
      "text/plain": [
       "                             tickets_sold  max_capacity\n",
       "Sicario: Day of the Soldado         99388        427950"
      ]
     },
     "execution_count": 92,
     "metadata": {},
     "output_type": "execute_result"
    }
   ],
   "source": [
    "# find movies which did not sell 100k tickets\n",
    "sales_df.loc[sales_df['tickets_sold'] < 100000]"
   ]
  },
  {
   "cell_type": "markdown",
   "metadata": {},
   "source": [
    "\n",
    "\n",
    "## For more practice you can use\n",
    "    \n",
    "- [10 Minutes to pandas](https://pandas.pydata.org/pandas-docs/stable/user_guide/10min.html) A brief introduction to pandas for new users on the official pandas site.\n",
    "\n",
    "- [Pandas cheat sheet](https://s3.amazonaws.com/assets.datacamp.com/blog_assets/PandasPythonForDataScience.pdf) A one-page summary of some of the most common pandas functions"
   ]
  }
 ],
 "metadata": {
  "kernelspec": {
   "display_name": "Python 3.10.4 64-bit",
   "language": "python",
   "name": "python3"
  },
  "language_info": {
   "codemirror_mode": {
    "name": "ipython",
    "version": 3
   },
   "file_extension": ".py",
   "mimetype": "text/x-python",
   "name": "python",
   "nbconvert_exporter": "python",
   "pygments_lexer": "ipython3",
   "version": "3.10.4"
  },
  "vscode": {
   "interpreter": {
    "hash": "2469a70536e4d2335a2ea8907942d0699c37342a371ac185bdb5b0aa6f073890"
   }
  }
 },
 "nbformat": 4,
 "nbformat_minor": 4
}
