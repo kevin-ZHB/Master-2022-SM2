{
 "cells": [
  {
   "cell_type": "markdown",
   "metadata": {},
   "source": [
    "### The University of Melbourne, School of Computing and Information Systems\n",
    "# COMP90049 Introduction to Machine Learning, 2022 Semester 2\n",
    "\n",
    "## Week 3 - Solution"
   ]
  },
  {
   "cell_type": "markdown",
   "metadata": {
    "canopy_exercise": {
     "cell_type": "hint"
    }
   },
   "source": [
    "Today, we will be working with a slightly modified version of the (very famous) Iris dataset, first\n",
    "discussed in:\n",
    "\n",
    "\\begin{align}\n",
    "{Fisher, R.A. (1936) The Use of Multiple Measurements in Taxonomic Problems, Annual Eugenics\n",
    "7(II), pp. 179–188.}\n",
    "\\end{align}\n",
    "\n",
    "This dataset (along with many others) is freely downloadable from the UCI Machine Learning Repository\n",
    "(https://archive.ics.uci.edu/ml/datasets/Iris). It also comes bundled with scikit-learn,\n",
    "but we will not be using that version today. \n",
    "\n",
    "The dataset and images, along with some of the problems in this worksheet have been adapted from work by Randal Olson (http://www.randalolson.com/) which we use under its Creative Commons license (https://creativecommons.org/licenses/by/4.0/)."
   ]
  },
  {
   "cell_type": "markdown",
   "metadata": {},
   "source": [
    "Before we start doing anything, let’s frame our problem:\n",
    "- Let’s say that we would like to build a system that can automatically predict the species of a flower, based on a photograph of that flower.\n",
    "- The data that we have collected at this point is a description of three kinds of Iris flowers: Iris setosa, Iris versicolor, and Iris virginica. (In the future, we hope to examine other species/genera of flowers.) We believe that the sepals and petals represent one possible source of useful information to help us solve this problem.\n",
    "- The data was collected by field researchers measuring certain properties of the sepals and petals on a sample of the three kinds of flower. (If some of this information proves useful, then we plan on incorporating image–processing software so that this can be discerned automatically.)"
   ]
  },
  {
   "cell_type": "markdown",
   "metadata": {},
   "source": [
    "Please ensure that the numpy, matplotlib, defaultdict and re packages are installed."
   ]
  },
  {
   "cell_type": "code",
   "execution_count": 1,
   "metadata": {},
   "outputs": [],
   "source": [
    "import numpy as np\n",
    "from collections import defaultdict\n",
    "import re\n",
    "import matplotlib.pyplot as plt\n",
    "%matplotlib inline"
   ]
  },
  {
   "cell_type": "markdown",
   "metadata": {},
   "source": [
    "### Exercise 1\n",
    "Begin by visually inspecting the raw data contained within the (textual) file `iris-data.csv`. Note that “inspecting the data” is mostly ineffectual for very large datasets. In fact, this is one of the main motivators for Machine Learning! :-)"
   ]
  },
  {
   "cell_type": "markdown",
   "metadata": {},
   "source": [
    "- How many instances are there? How many attributes? The instances have been labelled with class information—so this dataset is suitable for **supervised** machine learning — how many classes are there?"
   ]
  },
  {
   "cell_type": "markdown",
   "metadata": {},
   "source": [
    "- Confirm your observations by writing a function to count the instances, and keep track of how many instances of each class there are. (You might find the `string.split()` method useful.) "
   ]
  },
  {
   "cell_type": "code",
   "execution_count": 2,
   "metadata": {},
   "outputs": [],
   "source": [
    "def count_inst(filestream, class_dict):\n",
    "    n_instances = 0\n",
    "    for line in filestream.readlines()[1:]:\n",
    "        n_instances += 1\n",
    "        class_dict[line.strip().split(\",\")[-1]] += 1\n",
    "    return n_instances"
   ]
  },
  {
   "cell_type": "code",
   "execution_count": 4,
   "metadata": {},
   "outputs": [
    {
     "name": "stdout",
     "output_type": "stream",
     "text": [
      "Our total number of instances is: 150\n",
      "For class Iris-setosa we have 49 instances.\n",
      "For class Iris-setossa we have 1 instances.\n",
      "For class Iris-versicolor we have 45 instances.\n",
      "For class versicolor we have 5 instances.\n",
      "For class Iris-virginica we have 50 instances.\n"
     ]
    }
   ],
   "source": [
    "class_dict = defaultdict(int)\n",
    "\n",
    "f = open(\"iris-data.csv\",'r')\n",
    "\n",
    "print('Our total number of instances is:',count_inst(f,class_dict))\n",
    "\n",
    "for lbl in class_dict.keys():\n",
    "    print('For class', lbl, 'we have', class_dict[lbl], 'instances.')\n",
    "\n",
    "f.close()"
   ]
  },
  {
   "cell_type": "markdown",
   "metadata": {},
   "source": [
    "- You should notice a couple of problems with the class labels; make a copy of the CSV file called `iris-clean.csv`, and edit the erroneous class labels with their (likely) correct values."
   ]
  },
  {
   "cell_type": "markdown",
   "metadata": {},
   "source": [
    "`It looks like \"setosa\" was misspelled for one instance, and a few instances use the short-form \"versicolor\" instead of the standard \"Iris-versicolor\". So we first \"clean\" the data and then check the file again.`"
   ]
  },
  {
   "cell_type": "code",
   "execution_count": 5,
   "metadata": {},
   "outputs": [],
   "source": [
    "f = open(\"iris-data.csv\",'r')\n",
    "\n",
    "f_out = open(\"iris-clean.csv\",'w')\n",
    "\n",
    "for line in f:\n",
    "    line = re.sub(r'Iris-setossa$','Iris-setosa',line)\n",
    "    line = re.sub(r',versicolor$',\",Iris-versicolor\",line)\n",
    "    f_out.write(line)\n",
    "\n",
    "f.close()\n",
    "f_out.close()"
   ]
  },
  {
   "cell_type": "code",
   "execution_count": 6,
   "metadata": {},
   "outputs": [
    {
     "name": "stdout",
     "output_type": "stream",
     "text": [
      "Our total number of instances is: 150\n",
      "For class Iris-setosa we have 50 instances.\n",
      "For class Iris-versicolor we have 50 instances.\n",
      "For class Iris-virginica we have 50 instances.\n"
     ]
    }
   ],
   "source": [
    "n_instances = 0\n",
    "class_dict = defaultdict(int)\n",
    "\n",
    "f = open(\"iris-clean.csv\",'r')\n",
    "# f = open(\"iris-clean.csv\",'r')\n",
    "\n",
    "print('Our total number of instances is:',count_inst(f,class_dict))\n",
    "\n",
    "for lbl in class_dict.keys():\n",
    "    print('For class', lbl, 'we have', class_dict[lbl], 'instances.')\n",
    "\n",
    "f.close()"
   ]
  },
  {
   "cell_type": "markdown",
   "metadata": {},
   "source": [
    "### Exercise 2\n",
    "Before we can think about building a classifier, we should double–check that the data is formatted **correctly**. Confirm that the first line of the dataset is a header, which describes the expected format."
   ]
  },
  {
   "cell_type": "markdown",
   "metadata": {},
   "source": [
    "**(a)** Write a function `check-csv()` which returns `True` if every instance has the same number of fields (in this case, attribute values separated by commas), and `False` otherwise. Tgen check if your file has the correct format."
   ]
  },
  {
   "cell_type": "code",
   "execution_count": 7,
   "metadata": {
    "jupyter": {
     "outputs_hidden": true
    }
   },
   "outputs": [],
   "source": [
    "def check_csv(filestream,n_fields):\n",
    "    ret_val = True\n",
    "    for line in filestream:\n",
    "        if (len(line.strip().split(\",\"))!=n_fields): ret_val = False\n",
    "    return ret_val"
   ]
  },
  {
   "cell_type": "code",
   "execution_count": 8,
   "metadata": {},
   "outputs": [
    {
     "name": "stdout",
     "output_type": "stream",
     "text": [
      "Header:  sepal_length_cm,sepal_width_cm,petal_length_cm,petal_width_cm,class\n",
      "CSV passes?  True\n"
     ]
    }
   ],
   "source": [
    "f = open(\"iris-clean.csv\",'r')\n",
    "\n",
    "header = f.readline()\n",
    "\n",
    "print(\"Header: \",header.strip())\n",
    "n_fields = len(header.strip().split(\",\"))\n",
    "\n",
    "print(\"CSV passes? \",check_csv(f,n_fields))\n",
    "f.close()"
   ]
  },
  {
   "cell_type": "markdown",
   "metadata": {},
   "source": [
    "**(b)** Write a function which, for each attribute, prints the number of instances where the attribute\n",
    "value is numeric. What do you observe?"
   ]
  },
  {
   "cell_type": "code",
   "execution_count": 9,
   "metadata": {
    "jupyter": {
     "outputs_hidden": true
    }
   },
   "outputs": [],
   "source": [
    "def numeric_att_vals(filestream,n_fields):\n",
    "    att_counts = [0]*n_fields\n",
    "    for line in filestream:\n",
    "        instance = line.strip().split(\",\")\n",
    "        for ctr in range(n_fields):\n",
    "            try:\n",
    "                float(instance[ctr])\n",
    "                att_counts[ctr]+=1\n",
    "            except ValueError:\n",
    "                print(\"A 'not numeric' value found in field :\",ctr+1, \", and it's value is\", instance[ctr])\n",
    "    return att_counts"
   ]
  },
  {
   "cell_type": "code",
   "execution_count": 10,
   "metadata": {},
   "outputs": [
    {
     "name": "stdout",
     "output_type": "stream",
     "text": [
      "A 'not numeric' value found in field : 4 , and it's value is NA\n",
      "A 'not numeric' value found in field : 4 , and it's value is NA\n",
      "A 'not numeric' value found in field : 4 , and it's value is NA\n",
      "A 'not numeric' value found in field : 4 , and it's value is NA\n",
      "A 'not numeric' value found in field : 4 , and it's value is NA\n",
      "Numeric attribute value counts: [150, 150, 150, 145]\n"
     ]
    }
   ],
   "source": [
    "f = open(\"iris-clean.csv\",'r')\n",
    "\n",
    "f.readline()\n",
    "print(\"Numeric attribute value counts:\",numeric_att_vals(f,n_fields-1)) #not including class\n",
    "\n",
    "f.close()"
   ]
  },
  {
   "cell_type": "markdown",
   "metadata": {},
   "source": [
    "`It seems that \"NA\" is used for measurements that weren't recorded. Of course, this might also appear in various other ways, like \"?\", or \"N/A\", and so on, but not in the data that we're given.`"
   ]
  },
  {
   "cell_type": "markdown",
   "metadata": {},
   "source": [
    "For the instances with non-numeric attribute values, the values appear to be missing. We can’t know what the true values of these attribute were supposed to be, but leaving them unknown might cause problems for our model.\n",
    "\n",
    "One possible approach toward solving this issue is replacing the missing values with the **mean of the observed values** for that attribute. \n",
    "\n",
    "To check if it an appropriate method for our data. We can use the `matplotlib` library to plot a histogram for the data as follows:"
   ]
  },
  {
   "cell_type": "code",
   "execution_count": 11,
   "metadata": {},
   "outputs": [
    {
     "data": {
      "image/png": "[encoded data removed]",
      "text/plain": [
       "<Figure size 432x288 with 1 Axes>"
      ]
     },
     "metadata": {
      "needs_background": "light"
     },
     "output_type": "display_data"
    },
    {
     "data": {
      "image/png": "[encoded data removed]",
      "text/plain": [
       "<Figure size 432x288 with 1 Axes>"
      ]
     },
     "metadata": {
      "needs_background": "light"
     },
     "output_type": "display_data"
    },
    {
     "data": {
      "image/png": "[encoded data removed]",
      "text/plain": [
       "<Figure size 432x288 with 1 Axes>"
      ]
     },
     "metadata": {
      "needs_background": "light"
     },
     "output_type": "display_data"
    },
    {
     "data": {
      "image/png": "[encoded data removed]",
      "text/plain": [
       "<Figure size 432x288 with 1 Axes>"
      ]
     },
     "metadata": {
      "needs_background": "light"
     },
     "output_type": "display_data"
    }
   ],
   "source": [
    "sepal_lengths = []\n",
    "sepal_widths = []\n",
    "petal_lengths = []\n",
    "petal_widths = []\n",
    "\n",
    "with open(\"iris-clean.csv\",'r') as f:\n",
    "    f.readline()\n",
    "    for line in f:\n",
    "        att_vals = line.strip().split(\",\")\n",
    "        sl = att_vals[0]\n",
    "        if not(sl) == \"NA\":\n",
    "            sepal_lengths.append(float(sl))\n",
    "        sw = att_vals[1]\n",
    "        if not(sw) == \"NA\":\n",
    "            sepal_widths.append(float(sw))\n",
    "        pl = att_vals[2]\n",
    "        if not(pl) == \"NA\":\n",
    "            petal_lengths.append(float(pl))\n",
    "        pw = att_vals[3]\n",
    "        if not(pw) == \"NA\":\n",
    "            petal_widths.append(float(pw))\n",
    "            \n",
    "plt.title(\"Sepal Lengths (cm)\")\n",
    "plt.hist(np.array(sepal_lengths))\n",
    "plt.show()\n",
    "plt.title(\"Sepal Widths (cm)\")\n",
    "plt.hist(np.array(sepal_widths))\n",
    "plt.show()\n",
    "plt.title(\"Petal Lengths (cm)\")\n",
    "plt.hist(np.array(petal_lengths))\n",
    "plt.show()\n",
    "plt.title(\"Petal Widths (cm)\")\n",
    "plt.hist(np.array(petal_widths))\n",
    "plt.show()"
   ]
  },
  {
   "cell_type": "markdown",
   "metadata": {},
   "source": [
    "**(c)** Explian how these histograms can help us to see check if using the \"mean of the observed values\" is the proper method for solving the issue of missing value for an attribute"
   ]
  },
  {
   "cell_type": "markdown",
   "metadata": {},
   "source": [
    "** (d)** Explian why using the **mean of the observed values** is a bad idea for the feature 4 ('Petal Widths'), based on the data you observe? Is there anything else we could do, so as to make mean imputation a plausible strategy here?"
   ]
  },
  {
   "cell_type": "markdown",
   "metadata": {},
   "source": [
    "`Unlike, say, sepal widths (that has a roghly normal distrubution), the mean value of the petal width distribution (our forth attribute with missing values) doesn't appear to be representative of much of the data.` \n",
    "\n",
    "`Based on these bins, the mean isn't even the mode! One possible reason for this is that different classes of Iris might have a different mean petal width: for example, there appear to be roughly three peaks in this distribution (one around 0.3, one around 1.3, and one around 2.0), and three classes. It could also be just a coincidence; we would have to re-plot the data to get a better sense of it:`"
   ]
  },
  {
   "cell_type": "code",
   "execution_count": 12,
   "metadata": {},
   "outputs": [
    {
     "data": {
      "image/png": "[encoded data removed]",
      "text/plain": [
       "<Figure size 432x288 with 1 Axes>"
      ]
     },
     "metadata": {
      "needs_background": "light"
     },
     "output_type": "display_data"
    }
   ],
   "source": [
    "iris_setosa = []\n",
    "iris_versicolor = []\n",
    "iris_virginica = []\n",
    "with open(\"iris-clean.csv\",'r') as f:\n",
    "    f.readline()\n",
    "    for line in f:\n",
    "        att_vals = line.strip().split(\",\")\n",
    "        pw = att_vals[3]\n",
    "        if not(pw) == \"NA\":\n",
    "            if att_vals[4] == \"Iris-setosa\": iris_setosa.append(float(pw))\n",
    "            elif att_vals[4] == \"Iris-versicolor\": iris_versicolor.append(float(pw))\n",
    "            elif att_vals[4] == \"Iris-virginica\": iris_virginica.append(float(pw))\n",
    "            else: print(\"Unexpected class: \",att_vals[4])\n",
    "                \n",
    "plt.title(\"Petal Widths (cm) by Iris type\")\n",
    "plt.hist(np.array(iris_setosa))\n",
    "plt.hist(np.array(iris_versicolor))\n",
    "plt.hist(np.array(iris_virginica))\n",
    "plt.show()"
   ]
  },
  {
   "cell_type": "markdown",
   "metadata": {},
   "source": [
    "`Here, it appears that if we wanted to guess an unseen value of petal width for an instance of a given class, then the mean value for the instances of that class would appear to be reasonable.`\n",
    "\n",
    "`Of course, if we didn't know the class in advance (for example, for an instance from the test data, rather than the training) then this style of imputation wouldn't work.`"
   ]
  },
  {
   "cell_type": "markdown",
   "metadata": {},
   "source": [
    "### Exercise 3\n",
    "Use the method above to plot the histograms for the other attributes. You should observe some clear **outliers** in the attribute values. Take a look at the raw data, and see if you can guess what could have caused the outliers. Modify your `iris-clean.csv` copy of the data, to fix the outlying attribute values."
   ]
  },
  {
   "cell_type": "code",
   "execution_count": 13,
   "metadata": {},
   "outputs": [
    {
     "data": {
      "image/png": "[encoded data removed]",
      "text/plain": [
       "<Figure size 432x288 with 1 Axes>"
      ]
     },
     "metadata": {
      "needs_background": "light"
     },
     "output_type": "display_data"
    },
    {
     "data": {
      "image/png": "[encoded data removed]",
      "text/plain": [
       "<Figure size 432x288 with 1 Axes>"
      ]
     },
     "metadata": {
      "needs_background": "light"
     },
     "output_type": "display_data"
    },
    {
     "data": {
      "image/png": "[encoded data removed]",
      "text/plain": [
       "<Figure size 432x288 with 1 Axes>"
      ]
     },
     "metadata": {
      "needs_background": "light"
     },
     "output_type": "display_data"
    }
   ],
   "source": [
    "# Using a 2-d (or 3-d) list here would probably be better than several named lists\n",
    "# But the attribute set is small enough that it should be okay in this context\n",
    "sl_setosa = []\n",
    "sw_setosa = []\n",
    "pl_setosa = []\n",
    "sl_versicolor = []\n",
    "sw_versicolor = []\n",
    "pl_versicolor = []\n",
    "sl_virginica = []\n",
    "sw_virginica = []\n",
    "pl_virginica = []\n",
    "with open(\"iris-clean.csv\",'r') as f:\n",
    "    f.readline()\n",
    "    for line in f:\n",
    "        att_vals = line.strip().split(\",\")\n",
    "        sl = att_vals[0]\n",
    "        sw = att_vals[1]\n",
    "        pl = att_vals[2]\n",
    "        if att_vals[4] == \"Iris-setosa\":\n",
    "            if not(sl) == \"NA\": sl_setosa.append(float(sl))\n",
    "            if not(sw) == \"NA\": sw_setosa.append(float(sw))\n",
    "            if not(pl) == \"NA\": pl_setosa.append(float(pl))\n",
    "        elif att_vals[4] == \"Iris-versicolor\":\n",
    "            if not(sl) == \"NA\": sl_versicolor.append(float(sl))\n",
    "            if not(sw) == \"NA\": sw_versicolor.append(float(sw))\n",
    "            if not(pl) == \"NA\": pl_versicolor.append(float(pl))\n",
    "        elif att_vals[4] == \"Iris-virginica\":\n",
    "            if not(sl) == \"NA\": sl_virginica.append(float(sl))\n",
    "            if not(sw) == \"NA\": sw_virginica.append(float(sw))\n",
    "            if not(pl) == \"NA\": pl_virginica.append(float(pl))\n",
    "        else: print(\"Unexpected class: \",att_vals[4])\n",
    "                \n",
    "plt.title(\"Sepal Lengths (cm) by Iris type\")\n",
    "plt.hist(np.array(sl_setosa))\n",
    "plt.hist(np.array(sl_versicolor))\n",
    "plt.hist(np.array(sl_virginica))\n",
    "plt.show()\n",
    "plt.title(\"Sepal Widths (cm) by Iris type\")\n",
    "plt.hist(np.array(sw_setosa))\n",
    "plt.hist(np.array(sw_versicolor))\n",
    "plt.hist(np.array(sw_virginica))\n",
    "plt.show()\n",
    "plt.title(\"Petal Lengths (cm) by Iris type\")\n",
    "plt.hist(np.array(pl_setosa))\n",
    "plt.hist(np.array(pl_versicolor))\n",
    "plt.hist(np.array(pl_virginica))\n",
    "plt.show()"
   ]
  },
  {
   "cell_type": "markdown",
   "metadata": {},
   "source": [
    "`Most of the sepal lengths of all three kinds of Iris are between 4cm and 8cm, however, there are a small number of Iris-versicolor instances for which the sepal lengths are less than 1cm, which looks a little strange. Let's take a look at them, compared to a sample of the rest of the data:`"
   ]
  },
  {
   "cell_type": "code",
   "execution_count": 14,
   "metadata": {},
   "outputs": [
    {
     "name": "stdout",
     "output_type": "stream",
     "text": [
      "Short sepal lengths:\n",
      "[0.067, 0.06, 0.057, 0.055, 0.055]\n",
      "Some regular sepal lengths:\n",
      "[7.0, 6.4, 6.9, 5.5, 6.5, 5.7, 6.3, 4.9, 6.6, 5.2]\n"
     ]
    }
   ],
   "source": [
    "print(\"Short sepal lengths:\")\n",
    "print([x for x in sl_versicolor if x < 1.0])\n",
    "print(\"Some regular sepal lengths:\")\n",
    "print([x for x in sl_versicolor if x > 1.0][:10])"
   ]
  },
  {
   "cell_type": "markdown",
   "metadata": {},
   "source": [
    "`Looking at the data, the smaller values have the same number of significant digits, but are smaller by two orders of magnitude. One possible explanation is that this information was being recorded in m instead of cm on some instances (perhaps because there were multiple people who were doing the data collection, or the software parameters changed, or various other possiblew reasons).`\n",
    "\n",
    "`We would want to double-check this with the data curators; are these values actually correct, or are they erroneous, and therefore should we attempt to fix them? Let's say that we did discover that these are truly erroneous readings, and that we should multiply them by a factor of 100.`"
   ]
  },
  {
   "cell_type": "code",
   "execution_count": 15,
   "metadata": {},
   "outputs": [],
   "source": [
    "f = open(\"iris-data.csv\",'r')\n",
    "f_out = open(\"iris-clean.csv\",'w')\n",
    "\n",
    "#Pass through the header\n",
    "f_out.write(f.readline())\n",
    "\n",
    "for line in f:\n",
    "    atts = line.strip().split(\",\")\n",
    "    if atts[-1] == \"Iris-setossa\": atts[-1] = \"Iris-setosa\"\n",
    "    if atts[-1] == \"versicolor\": atts[-1] = \"Iris-versicolor\"\n",
    "    if float(atts[0]) < 1.0: atts[0]=str(100*float(atts[0]))\n",
    "    f_out.write(\",\".join(atts)+\"\\n\")\n",
    "\n",
    "f.close()\n",
    "f_out.close()"
   ]
  },
  {
   "cell_type": "markdown",
   "metadata": {},
   "source": [
    "`For posterity, let's sanity-check the histogram of sepal lengths for the Iris-versicolor instances now.`"
   ]
  },
  {
   "cell_type": "code",
   "execution_count": 16,
   "metadata": {},
   "outputs": [
    {
     "data": {
      "image/png": "[encoded data removed]",
      "text/plain": [
       "<Figure size 432x288 with 1 Axes>"
      ]
     },
     "metadata": {
      "needs_background": "light"
     },
     "output_type": "display_data"
    }
   ],
   "source": [
    "sl_versicolor = []\n",
    "with open(\"iris-clean.csv\",'r') as f:\n",
    "    f.readline()\n",
    "    for line in f:\n",
    "        att_vals = line.strip().split(\",\")\n",
    "        sl = att_vals[0]\n",
    "        if att_vals[4] == \"Iris-versicolor\":\n",
    "            if not(sl) == \"NA\": sl_versicolor.append(float(sl))\n",
    "plt.title(\"Sepal Lengths (cm) of Iris-versicolor\")\n",
    "plt.hist(np.array(sl_versicolor))\n",
    "plt.show()"
   ]
  },
  {
   "cell_type": "markdown",
   "metadata": {},
   "source": [
    "### Exercise 4\n",
    "Let’s attempt to visualise some relationships in the data."
   ]
  },
  {
   "cell_type": "markdown",
   "metadata": {},
   "source": [
    "First let's make a scatter-plot of the sepal length vs. sepal width by using the following:"
   ]
  },
  {
   "cell_type": "code",
   "execution_count": 17,
   "metadata": {},
   "outputs": [
    {
     "data": {
      "image/png": "[encoded data removed]",
      "text/plain": [
       "<Figure size 432x288 with 1 Axes>"
      ]
     },
     "metadata": {
      "needs_background": "light"
     },
     "output_type": "display_data"
    }
   ],
   "source": [
    "sepal_lengths = []\n",
    "sepal_widths = []\n",
    "petal_lengths = []\n",
    "petal_widths = []\n",
    "with open(\"iris-clean.csv\",'r') as f:\n",
    "    f.readline()\n",
    "    for line in f:\n",
    "        att_vals = line.strip().split(\",\")\n",
    "        sl = att_vals[0]\n",
    "        if not(sl) == \"NA\":\n",
    "            sepal_lengths.append(float(sl))\n",
    "        sw = att_vals[1]\n",
    "        if not(sw) == \"NA\":\n",
    "            sepal_widths.append(float(sw))\n",
    "        pl = att_vals[2]\n",
    "        if not(pl) == \"NA\":\n",
    "            petal_lengths.append(float(pl))\n",
    "        pw = att_vals[3]\n",
    "        if not(pw) == \"NA\":\n",
    "            petal_widths.append(float(pw))\n",
    "        # Obviously, we would want a better strategy here\n",
    "        # But it's enough for now to record the handful of missing values as an impossible value\n",
    "        else: petal_widths.append(\"0\")\n",
    "            \n",
    "plt.title(\"Sepal length (cm) vs Sepal Width (cm)\")\n",
    "plt.scatter(np.array(sepal_lengths),np.array(sepal_widths))\n",
    "plt.show()"
   ]
  },
  {
   "cell_type": "markdown",
   "metadata": {},
   "source": [
    "**(a)** Can you identify a certain pattern in it?"
   ]
  },
  {
   "cell_type": "markdown",
   "metadata": {},
   "source": [
    "`It is suggestive, but without a clear indication of the classes of the instances, we can’t really be certain of any patterns in the data.`"
   ]
  },
  {
   "cell_type": "markdown",
   "metadata": {},
   "source": [
    "The scatter function takes an optional argument for colouring points, based on a list of strings (like red or blue). Let's replot our data using different colours for different classes."
   ]
  },
  {
   "cell_type": "code",
   "execution_count": 18,
   "metadata": {},
   "outputs": [
    {
     "data": {
      "image/png": "[encoded data removed]",
      "text/plain": [
       "<Figure size 432x288 with 1 Axes>"
      ]
     },
     "metadata": {
      "needs_background": "light"
     },
     "output_type": "display_data"
    }
   ],
   "source": [
    "# The data has the instances ordered by class\n",
    "# The first 50 are Iris-setosa, the next 50 are Iris-versicolor, and the final 50 are Iris-virginica\n",
    "# If the data wasn't sorted by class, we would have to do some more work here \n",
    "colours = 50*[\"red\"]+50*[\"green\"]+50*[\"blue\"]\n",
    "# As a brief aside, colourblind readers would want to discriminate using value/saturation instead of hue\n",
    "# and ideally also different shapes for the points of each class\n",
    "plt.title(\"Sepal length (cm) vs Sepal Width (cm)\")\n",
    "plt.scatter(np.array(sepal_lengths),np.array(sepal_widths),c=colours)\n",
    "plt.show()"
   ]
  },
  {
   "cell_type": "markdown",
   "metadata": {},
   "source": [
    "**(b)** Now can you identify a certain pattern?"
   ]
  },
  {
   "cell_type": "markdown",
   "metadata": {},
   "source": [
    "`At a casual glance, it appears that most of the Iris-setosa instances (red dots) occupy a distinct \"region\" of this space (relatively short sepal length, but relatively high sepal width), but for the other two classes, the points are somewhat \"mixed up\".`"
   ]
  },
  {
   "cell_type": "markdown",
   "metadata": {},
   "source": [
    "Now let's try making scatter-plots for different pairs of attributes. "
   ]
  },
  {
   "cell_type": "code",
   "execution_count": null,
   "metadata": {},
   "outputs": [],
   "source": [
    "colours = 50*[\"red\"]+50*[\"green\"]+50*[\"blue\"]\n",
    "plt.title(\"Sepal length (cm) vs Petal length (cm)\")\n",
    "plt.scatter(np.array(sepal_lengths),np.array(petal_lengths),c=colours)\n",
    "plt.show()\n",
    "plt.title(\"Sepal length (cm) vs Petal width (cm)\")\n",
    "plt.scatter(np.array(sepal_lengths),np.array(petal_widths),c=colours)\n",
    "plt.show()\n",
    "plt.title(\"Sepal width (cm) vs Petal length (cm)\")\n",
    "plt.scatter(np.array(sepal_widths),np.array(petal_lengths),c=colours)\n",
    "plt.show()\n",
    "plt.title(\"Sepal width (cm) vs Petal width (cm)\")\n",
    "plt.scatter(np.array(sepal_widths),np.array(petal_widths),c=colours)\n",
    "plt.show()\n",
    "plt.title(\"Petal length (cm) vs Petal width (cm)\")\n",
    "plt.scatter(np.array(petal_lengths),np.array(petal_widths),c=colours)\n",
    "plt.show()"
   ]
  },
  {
   "cell_type": "markdown",
   "metadata": {},
   "source": [
    "**(c)** Do you notice anything that might suggest that one class is distinguishable from the others? How might this information be utilised by the Naive Bayes algorithm? What about other supervised machine learning methods?"
   ]
  },
  {
   "cell_type": "markdown",
   "metadata": {},
   "source": [
    "`Each of these plots gives us a little bit of information about some distinguishing characteristics of the data; one simple observation for the first four graphs is that the red instances (Iris-setosa) occupy the lower-most area (low petal length/petal width), the green instances (Iris-versicolor) are in the middle, and the blue instances are near the top (high petal length/petal width).`\n",
    "\n",
    "`The final graph appears to show a good relationship between two attributes (petal length and petal width), which seems to strongly suggest how to distinguish one class from another. However, the question asks us about Naive Bayes in particular, which might have some slight problems in this case because it uses every attribute value when making a prediction; sepal width doesn't look like a useful predictor in this context, even when combined with each of the other attributes.`\n",
    "\n",
    "`As the semester continues, we'll talk more about how Naive Bayes manipulates these numerical attributes, and some other methods (like Support Vector Machines) that can better discover some of the discriminating factors that we can readily observe in this case of the Iris data. This is important, because with a larger attribute set, say 1000 or so, we might not be able to sensibly examine all of the pairwise scatterplots; and even if we could, it might be the case that it is the combination of three (or more) attributes which allows us to discriminate the data; we can't realistically observe such a thing by inspection.`"
   ]
  }
 ],
 "metadata": {
  "kernelspec": {
   "display_name": "Python 3",
   "language": "python",
   "name": "python3"
  },
  "language_info": {
   "codemirror_mode": {
    "name": "ipython",
    "version": 3
   },
   "file_extension": ".py",
   "mimetype": "text/x-python",
   "name": "python",
   "nbconvert_exporter": "python",
   "pygments_lexer": "ipython3",
   "version": "3.6.11"
  }
 },
 "nbformat": 4,
 "nbformat_minor": 4
}
